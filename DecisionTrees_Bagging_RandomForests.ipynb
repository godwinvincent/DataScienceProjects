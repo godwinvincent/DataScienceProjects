{
 "cells": [
  {
   "cell_type": "markdown",
   "metadata": {},
   "source": [
    "In this project we are looking at the titanic dataset. I am also implement decision trees by hand and then using bagging and random forests to optimize the prediction"
   ]
  },
  {
   "cell_type": "code",
   "execution_count": 432,
   "metadata": {
    "collapsed": true
   },
   "outputs": [],
   "source": [
    "import numpy as np\n",
    "import scipy as sp\n",
    "import pandas as pd\n",
    "import matplotlib \n",
    "%matplotlib inline\n",
    "import matplotlib.pyplot as plt  \n",
    "import random\n",
    "from sklearn.model_selection import train_test_split\n",
    "import math\n",
    "from sklearn import metrics\n",
    "from sklearn.metrics import confusion_matrix"
   ]
  },
  {
   "cell_type": "markdown",
   "metadata": {},
   "source": [
    "# Trees and Forests"
   ]
  },
  {
   "cell_type": "markdown",
   "metadata": {},
   "source": []
  },
  {
   "cell_type": "code",
   "execution_count": 433,
   "metadata": {},
   "outputs": [
    {
     "data": {
      "text/html": [
       "<div>\n",
       "<style>\n",
       "    .dataframe thead tr:only-child th {\n",
       "        text-align: right;\n",
       "    }\n",
       "\n",
       "    .dataframe thead th {\n",
       "        text-align: left;\n",
       "    }\n",
       "\n",
       "    .dataframe tbody tr th {\n",
       "        vertical-align: top;\n",
       "    }\n",
       "</style>\n",
       "<table border=\"1\" class=\"dataframe\">\n",
       "  <thead>\n",
       "    <tr style=\"text-align: right;\">\n",
       "      <th>survived</th>\n",
       "      <th>0</th>\n",
       "      <th>1</th>\n",
       "    </tr>\n",
       "  </thead>\n",
       "  <tbody>\n",
       "    <tr>\n",
       "      <th>pclass</th>\n",
       "      <td>2.500618</td>\n",
       "      <td>1.962000</td>\n",
       "    </tr>\n",
       "    <tr>\n",
       "      <th>age</th>\n",
       "      <td>30.545369</td>\n",
       "      <td>28.918228</td>\n",
       "    </tr>\n",
       "    <tr>\n",
       "      <th>sibsp</th>\n",
       "      <td>0.521632</td>\n",
       "      <td>0.462000</td>\n",
       "    </tr>\n",
       "    <tr>\n",
       "      <th>parch</th>\n",
       "      <td>0.328801</td>\n",
       "      <td>0.476000</td>\n",
       "    </tr>\n",
       "    <tr>\n",
       "      <th>fare</th>\n",
       "      <td>23.353831</td>\n",
       "      <td>49.361184</td>\n",
       "    </tr>\n",
       "    <tr>\n",
       "      <th>female</th>\n",
       "      <td>0.156984</td>\n",
       "      <td>0.678000</td>\n",
       "    </tr>\n",
       "    <tr>\n",
       "      <th>male</th>\n",
       "      <td>0.843016</td>\n",
       "      <td>0.322000</td>\n",
       "    </tr>\n",
       "    <tr>\n",
       "      <th>C</th>\n",
       "      <td>0.148331</td>\n",
       "      <td>0.300000</td>\n",
       "    </tr>\n",
       "    <tr>\n",
       "      <th>Q</th>\n",
       "      <td>0.097651</td>\n",
       "      <td>0.088000</td>\n",
       "    </tr>\n",
       "    <tr>\n",
       "      <th>S</th>\n",
       "      <td>0.754017</td>\n",
       "      <td>0.608000</td>\n",
       "    </tr>\n",
       "    <tr>\n",
       "      <th>New York, NY</th>\n",
       "      <td>0.029666</td>\n",
       "      <td>0.080000</td>\n",
       "    </tr>\n",
       "    <tr>\n",
       "      <th>London</th>\n",
       "      <td>0.011125</td>\n",
       "      <td>0.010000</td>\n",
       "    </tr>\n",
       "    <tr>\n",
       "      <th>Montreal, PQ</th>\n",
       "      <td>0.007417</td>\n",
       "      <td>0.008000</td>\n",
       "    </tr>\n",
       "  </tbody>\n",
       "</table>\n",
       "</div>"
      ],
      "text/plain": [
       "survived              0          1\n",
       "pclass         2.500618   1.962000\n",
       "age           30.545369  28.918228\n",
       "sibsp          0.521632   0.462000\n",
       "parch          0.328801   0.476000\n",
       "fare          23.353831  49.361184\n",
       "female         0.156984   0.678000\n",
       "male           0.843016   0.322000\n",
       "C              0.148331   0.300000\n",
       "Q              0.097651   0.088000\n",
       "S              0.754017   0.608000\n",
       "New York, NY   0.029666   0.080000\n",
       "London         0.011125   0.010000\n",
       "Montreal, PQ   0.007417   0.008000"
      ]
     },
     "execution_count": 433,
     "metadata": {},
     "output_type": "execute_result"
    }
   ],
   "source": [
    "titanic = pd.read_csv(\"./titanic.csv.bz2\")\n",
    "gender = pd.get_dummies(titanic['sex'])\n",
    "embark_location = pd.get_dummies(titanic['embarked'])\n",
    "home = pd.get_dummies(titanic['home.dest'])[['New York, NY','London' ,'Montreal, PQ']]\n",
    "titanic_dmy = pd.concat([titanic,gender,embark_location,home],axis=1)\n",
    "titanic_dmy.drop(['body'],axis=1,inplace=True)\n",
    "titanic_dmy.groupby('survived').mean().T"
   ]
  },
  {
   "cell_type": "code",
   "execution_count": 434,
   "metadata": {},
   "outputs": [
    {
     "name": "stdout",
     "output_type": "stream",
     "text": [
      "                   Mean        STD  NumMissing  Correlation\n",
      "Variables                                                  \n",
      "pclass         2.294882   0.837836           0    -0.312469\n",
      "survived       0.381971   0.486055           0     1.000000\n",
      "age           29.881135  14.413500         263          NaN\n",
      "sibsp          0.498854   1.041658           0    -0.027825\n",
      "parch          0.385027   0.865560           0     0.082660\n",
      "fare          33.295479  51.758668           1          NaN\n",
      "female         0.355997   0.478997           0     0.528693\n",
      "male           0.644003   0.478997           0    -0.528693\n",
      "C              0.206264   0.404777           0     0.182123\n",
      "Q              0.093965   0.291891           0    -0.016071\n",
      "S              0.698243   0.459196           0    -0.154558\n",
      "New York, NY   0.048892   0.215725           0     0.113408\n",
      "London         0.010695   0.102902           0    -0.005313\n",
      "Montreal, PQ   0.007639   0.087103           0     0.003256\n"
     ]
    }
   ],
   "source": [
    "titanic_dmy_summary = titanic_dmy.drop(['name', 'home.dest','cabin', 'boat', 'embarked', 'sex', 'ticket'],axis=1)\n",
    "summary = pd.DataFrame(index=titanic_dmy_summary.columns)\n",
    "summary['Mean'] = titanic_dmy_summary.mean()\n",
    "summary['STD'] = titanic_dmy_summary.std()\n",
    "summary['NumMissing'] = titanic_dmy_summary.isnull().sum()\n",
    "summary.index.name = \"Variables\"\n",
    "l = []\n",
    "listofname = titanic_dmy_summary.columns\n",
    "for x in listofname:\n",
    "    l.append(np.corrcoef(titanic_dmy_summary[x], titanic_dmy_summary['survived'])[0,1])\n",
    "summary[\"Correlation\"] = l\n",
    "print(summary)\n"
   ]
  },
  {
   "cell_type": "markdown",
   "metadata": {},
   "source": [
    "# Implement decision tree"
   ]
  },
  {
   "cell_type": "markdown",
   "metadata": {},
   "source": [
    "## Create binary variables"
   ]
  },
  {
   "cell_type": "code",
   "execution_count": 435,
   "metadata": {
    "collapsed": true
   },
   "outputs": [],
   "source": [
    "titanic_dmy_binary = titanic_dmy_summary.drop(['female', 'fare' ],axis=1)\n",
    "classDummies = pd.get_dummies(titanic_dmy_summary['pclass'])\n",
    "classDummies.columns = ['pc1', 'pc2', 'pc3']\n",
    "ageGroup = pd.cut(titanic_dmy_binary['age'],[0,10, 18, 45,60,200], right=False)\n",
    "ageGroup\n",
    "ageDummies = pd.get_dummies(ageGroup)\n",
    "titanicData = pd.concat([titanic_dmy_binary,classDummies,ageDummies],axis=1)\n",
    "titanicData.drop(['age','parch','sibsp','pclass'], axis=1, inplace=True)"
   ]
  },
  {
   "cell_type": "code",
   "execution_count": 436,
   "metadata": {
    "collapsed": true
   },
   "outputs": [],
   "source": [
    " X_train, X_test, y_train, y_test = train_test_split( titanicData, titanicData['survived'], test_size=.2)"
   ]
  },
  {
   "cell_type": "markdown",
   "metadata": {},
   "source": [
    "## Implement the decision tree with binary variables"
   ]
  },
  {
   "cell_type": "code",
   "execution_count": 437,
   "metadata": {},
   "outputs": [
    {
     "name": "stdout",
     "output_type": "stream",
     "text": [
      "first three levels of tree:\n",
      "\t\t\t\t male\n",
      "\t\t Montreal, PQ \t\t Montreal, PQ\n",
      "\t pc3 \t\t 1.0 \t\t pc1 \t 0.0\n",
      "Q \t [60, 200) \t\t\t New York, NY \t Q\n",
      "Accuracy: 0.828244274809\n",
      "Precision: 0.893333333333\n",
      "Recall: 0.644230769231\n"
     ]
    }
   ],
   "source": [
    "def growTree(data):\n",
    "    if data.shape[1] < 5:\n",
    "        return [data['survived'].sum() / len(data)]\n",
    "    elif data.shape[0] < 3:\n",
    "        return [data['survived'].sum() / len(data)]\n",
    "    else:\n",
    "        survived = data['survived'].sum() / len(data)\n",
    "        dead = (data['survived'] == 0).sum() / len(data)\n",
    "        entropy = -1 * survived * math.log(survived, 2) - dead * math.log(dead,2)\n",
    "        print(entropy)\n",
    "        minEntropy = entropy\n",
    "        minIndex = -1\n",
    "        for i in range(1, data.shape[1]):\n",
    "            df1 = data[data[data.columns[i]] == 1]\n",
    "            df0 = data[data[data.columns[i]] == 0]\n",
    "            if not (len(df0) == 0 or len(df1) == 0):\n",
    "                survivedIf1 = df1['survived'].sum() / len(df1)\n",
    "                survivedIf0 = df0['survived'].sum() / len(df0)\n",
    "                deadIf1 = (df1['survived'] == 0).sum() / len(df1)\n",
    "                deadIf0 = (df0['survived'] == 0).sum() / len(df0)\n",
    "                if survivedIf0 == 0.0:\n",
    "                    return [data.columns[i], [0.0], growTree(data.drop([data.columns[i]], axis=1))]\n",
    "                if survivedIf1 == 0.0:\n",
    "                    return [data.columns[i], growTree(data.drop([data.columns[i]], axis=1)), [0.0] ]\n",
    "                if survivedIf0 == 1.0:\n",
    "                    return [data.columns[i], [1.0], growTree(data.drop([data.columns[i]], axis=1))]\n",
    "                if survivedIf1 == 1.0:\n",
    "                    return [data.columns[i], growTree(data.drop([data.columns[i]], axis=1)), [1.0] ]\n",
    "\n",
    "                yEntropy = -1 * survivedIf1 * math.log(survivedIf1, 2) - deadIf1 * math.log(deadIf1,2)\n",
    "                nEntropy = -1 * survivedIf0 * math.log(survivedIf0, 2) - deadIf0 * math.log(deadIf0,2)\n",
    "\n",
    "                weightedAvg = (yEntropy * len(df1) + nEntropy * len(df0)) / (len(df1) + len(df0))\n",
    "                if weightedAvg < minEntropy:\n",
    "                    minEntropy = weightedAvg\n",
    "                    minIndex = i\n",
    "        dataSplit1 = data[data[data.columns[minIndex]] == 1].drop([data.columns[minIndex]], axis=1)\n",
    "        dataSplit0 = data[data[data.columns[minIndex]] == 0].drop([data.columns[minIndex]], axis=1)\n",
    "        if len(dataSplit0) == 0:\n",
    "            return [dataSplit1['survived'].sum() / len(dataSplit1)]\n",
    "        if len(dataSplit1) == 0:\n",
    "            return [dataSplit0['survived'].sum() / len(dataSplit0)]\n",
    "        \n",
    "        return [data.columns[minIndex], growTree(dataSplit0), growTree(dataSplit1)]\n",
    "tree = growTree(X_train)\n",
    "\n",
    "print(\"first three levels of tree:\")\n",
    "print(\"\\t\\t\\t\\t\",tree[0])\n",
    "print(\"\\t\\t\",tree[1][0], \"\\t\\t\", tree[2][0])\n",
    "print(\"\\t\", tree[1][1][0], \"\\t\\t\", tree[1][2][0],\"\\t\\t\",tree[2][1][0],\"\\t\", tree[2][2][0])\n",
    "print(tree[1][1][1][0], \"\\t\", tree[1][1][2][0], \"\\t\\t\\t\", tree[2][1][1][0],\"\\t\",tree[2][1][2][0] )\n",
    "\n",
    "predictions = np.empty(X_test.shape[0])\n",
    "for i in range(X_test.shape[0]):\n",
    "    predictionTree = tree.copy();\n",
    "    while(len(predictionTree) > 2):\n",
    "        path = X_test.iloc[i][predictionTree[0]]\n",
    "        predictionTree = predictionTree[path + 1]\n",
    "    if predictionTree[0] > .5: \n",
    "        predictions[i] = 1\n",
    "    else:\n",
    "        predictions[i] = 0\n",
    "        \n",
    "tn, fp, fn, tp = confusion_matrix(y_test, predictions).ravel()\n",
    "\n",
    "print(\"Accuracy:\", (tp+tn) / (tp+fp+fn+tn))\n",
    "print(\"Precision:\", tp/(tp + fp))\n",
    "print(\"Recall:\", tp/(tp+fn))"
   ]
  },
  {
   "cell_type": "markdown",
   "metadata": {},
   "source": [
    "# Bagging and Random Forests"
   ]
  },
  {
   "cell_type": "markdown",
   "metadata": {},
   "source": [
    "## Bagging"
   ]
  },
  {
   "cell_type": "code",
   "execution_count": 438,
   "metadata": {},
   "outputs": [
    {
     "name": "stdout",
     "output_type": "stream",
     "text": [
      "All trees agree: 229 times on 262 predictions\n",
      "Accuracy: 0.839694656489\n",
      "Precision: 0.897435897436\n",
      "Recall: 0.673076923077\n"
     ]
    }
   ],
   "source": [
    "B = 5\n",
    "trees = {}\n",
    "for i in range(B):\n",
    "    selectedData = X_train.sample(n=len(X_train), replace=True)\n",
    "    trees[i] = growTree(selectedData)\n",
    "predictions = np.empty(X_test.shape[0])\n",
    "allAgree = 0;\n",
    "for i in range(X_test.shape[0]):\n",
    "    innerPredictions = np.empty(B)\n",
    "    for j in range(B):\n",
    "        predictionTree = trees[list(trees.keys())[j]].copy();\n",
    "        while(len(predictionTree) > 2):\n",
    "            path = X_test.iloc[i][predictionTree[0]]\n",
    "            predictionTree = predictionTree[path + 1]\n",
    "        if predictionTree[0] > .5: \n",
    "            innerPredictions[j] = 1\n",
    "        else:\n",
    "            innerPredictions[j] = 0\n",
    "    if(innerPredictions.sum() > (B/2)):\n",
    "        predictions[i] = 1\n",
    "    else:\n",
    "        predictions[i] = 0\n",
    "    if(innerPredictions.sum() == 0 or innerPredictions.sum() == B):\n",
    "        allAgree += 1\n",
    "    \n",
    "tn, fp, fn, tp = confusion_matrix(y_test, predictions).ravel()\n",
    "print(\"All trees agree:\", allAgree, \"times on\", X_test.shape[0], \"predictions\")\n",
    "print(\"Accuracy:\", (tp+tn) / (tp+fp+fn+tn))\n",
    "print(\"Precision:\", tp/(tp + fp))\n",
    "print(\"Recall:\", tp/(tp+fn))  "
   ]
  },
  {
   "cell_type": "code",
   "execution_count": 439,
   "metadata": {
    "collapsed": true
   },
   "outputs": [],
   "source": [
    "accuracy = np.empty(10)\n",
    "precision = np.empty(10)\n",
    "recall = np.empty(10)\n",
    "J = 0\n",
    "for H in range(5,300,60):\n",
    "    B = H\n",
    "    trees = {}\n",
    "    for i in range(B):\n",
    "        selectedData = X_train.sample(n=len(X_train), replace=True)\n",
    "        trees[i] = growTree(selectedData)\n",
    "    predictions = np.empty(X_test.shape[0])\n",
    "    allAgree = 0;\n",
    "    for i in range(X_test.shape[0]):\n",
    "        innerPredictions = np.empty(B)\n",
    "        for j in range(B):\n",
    "            predictionTree = trees[list(trees.keys())[j]].copy();\n",
    "            while(len(predictionTree) > 2):\n",
    "                path = X_test.iloc[i][predictionTree[0]]\n",
    "                predictionTree = predictionTree[path + 1]\n",
    "            if predictionTree[0] > .5: \n",
    "                innerPredictions[j] = 1\n",
    "            else:\n",
    "                innerPredictions[j] = 0\n",
    "        if(innerPredictions.sum() > (B/2)):\n",
    "            predictions[i] = 1\n",
    "        else:\n",
    "            predictions[i] = 0\n",
    "        if(innerPredictions.sum() == 0 or innerPredictions.sum() == B):\n",
    "            allAgree += 1\n",
    "\n",
    "    tn, fp, fn, tp = confusion_matrix(y_test, predictions).ravel()\n",
    "    accuracy[J] = (tp+tn) / (tp+fp+fn+tn)\n",
    "    precision[J] = tp/(tp + fp)\n",
    "    recall[J] = tp/(tp+fn)\n",
    "    J = J + 1"
   ]
  },
  {
   "cell_type": "code",
   "execution_count": 442,
   "metadata": {},
   "outputs": [
    {
     "data": {
      "image/png": "[encoded data removed]",
      "text/plain": [
       "<matplotlib.figure.Figure at 0x112775080>"
      ]
     },
     "metadata": {},
     "output_type": "display_data"
    }
   ],
   "source": [
    "plt.plot(range(5,300,60), accuracy[:5])\n",
    "plt.plot(range(5,300,60), precision[:5])\n",
    "plt.plot(range(5,300,60), recall[:5])\n",
    "plt.legend(['accuracy','precision','recall'])\n",
    "plt.show()"
   ]
  },
  {
   "cell_type": "markdown",
   "metadata": {},
   "source": [
    "Anything higher than around 100 looks to be an optimal bag size"
   ]
  },
  {
   "cell_type": "markdown",
   "metadata": {},
   "source": [
    "## Random Forests"
   ]
  },
  {
   "cell_type": "code",
   "execution_count": 443,
   "metadata": {
    "collapsed": true
   },
   "outputs": [],
   "source": [
    "accuracy = np.empty(10)\n",
    "precision = np.empty(10)\n",
    "recall = np.empty(10)\n",
    "J=0\n",
    "for H in range(5,1001,100):\n",
    "    B = H\n",
    "    trees = {}\n",
    "    for i in range(B):\n",
    "        selectedData = X_train.sample(n=int(len(X_train)**(1/2.0)), replace=True)\n",
    "        trees[i] = growTree(selectedData)\n",
    "    predictions = np.empty(X_test.shape[0])\n",
    "    for i in range(X_test.shape[0]):\n",
    "        innerPredictions = np.empty(B)\n",
    "        for j in range(B):\n",
    "            predictionTree = trees[list(trees.keys())[j]].copy();\n",
    "            while(len(predictionTree) > 2):\n",
    "                path = X_test.iloc[i][predictionTree[0]]\n",
    "                predictionTree = predictionTree[path + 1]\n",
    "            if predictionTree[0] > .5: \n",
    "                innerPredictions[j] = 1\n",
    "            else:\n",
    "                innerPredictions[j] = 0\n",
    "        if(innerPredictions.sum() > (B/2)):\n",
    "            predictions[i] = 1\n",
    "        else:\n",
    "            predictions[i] = 0\n",
    "\n",
    "    tn, fp, fn, tp = confusion_matrix(y_test, predictions).ravel()\n",
    "\n",
    "    accuracy[J] = (tp+tn) / (tp+fp+fn+tn)\n",
    "    precision[J] = tp/(tp + fp)\n",
    "    recall[J] = tp/(tp+fn)\n",
    "    J = J + 1 "
   ]
  },
  {
   "cell_type": "code",
   "execution_count": 444,
   "metadata": {},
   "outputs": [
    {
     "data": {
      "image/png": "[encoded data removed]",
      "text/plain": [
       "<matplotlib.figure.Figure at 0x112691c50>"
      ]
     },
     "metadata": {},
     "output_type": "display_data"
    }
   ],
   "source": [
    "plt.plot(range(5,1001,100), accuracy)\n",
    "plt.plot(range(5,1001,100), precision)\n",
    "plt.plot(range(5,1001,100), recall)\n",
    "plt.legend(['accuracy','precision','recall'])\n",
    "plt.show()"
   ]
  },
  {
   "cell_type": "markdown",
   "metadata": {},
   "source": [
    "The best performance seems to be a random forest of approx 200, this gives us a little better performance than bagging."
   ]
  }
 ],
 "metadata": {
  "kernelspec": {
   "display_name": "Python 3",
   "language": "python",
   "name": "python3"
  },
  "language_info": {
   "codemirror_mode": {
    "name": "ipython",
    "version": 3
   },
   "file_extension": ".py",
   "mimetype": "text/x-python",
   "name": "python",
   "nbconvert_exporter": "python",
   "pygments_lexer": "ipython3",
   "version": "3.6.2"
  }
 },
 "nbformat": 4,
 "nbformat_minor": 2
}
