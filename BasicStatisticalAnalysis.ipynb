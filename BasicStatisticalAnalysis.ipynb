{
 "cells": [
  {
   "cell_type": "markdown",
   "metadata": {
    "ein.tags": "worksheet-0",
    "slideshow": {
     "slide_type": "-"
    }
   },
   "source": [
    "Analyzing the Boston House Pricing Database using simple t-tests and correlation"
   ]
  },
  {
   "cell_type": "code",
   "execution_count": 2,
   "metadata": {
    "autoscroll": false,
    "ein.tags": "worksheet-0",
    "slideshow": {
     "slide_type": "-"
    }
   },
   "outputs": [
    {
     "name": "stdout",
     "output_type": "stream",
     "text": [
      "Numpy version:        1.13.1\n",
      "SciPy version:        0.19.1\n",
      "Pandas version:       0.20.3\n",
      "Maplotlib version:     2.0.2\n",
      "Scikit-Learn version: 0.19.0\n"
     ]
    }
   ],
   "source": [
    "# Numpy is a library for working with Arrays\n",
    "import numpy as np\n",
    "print(\"Numpy version:        %6.6s\" % np.__version__)\n",
    "\n",
    "# SciPy implements many different numerical algorithms\n",
    "import scipy as sp\n",
    "print(\"SciPy version:        %6.6s\" % sp.__version__)\n",
    "\n",
    "# Pandas makes working with data tables easier\n",
    "import pandas as pd\n",
    "print(\"Pandas version:       %6.6s\" % pd.__version__)\n",
    "\n",
    "# Module for plotting\n",
    "import matplotlib \n",
    "print(\"Maplotlib version:    %6.6s\" % matplotlib.__version__)\n",
    "%matplotlib inline\n",
    "# needed for inline plots in notebooks\n",
    "import matplotlib.pyplot as plt  \n",
    "\n",
    "# SciKit Learn implements several Machine Learning algorithms\n",
    "import sklearn\n",
    "print(\"Scikit-Learn version: %6.6s\" % sklearn.__version__)"
   ]
  },
  {
   "cell_type": "markdown",
   "metadata": {
    "ein.tags": "worksheet-0",
    "slideshow": {
     "slide_type": "-"
    }
   },
   "source": []
  },
  {
   "cell_type": "markdown",
   "metadata": {
    "ein.tags": "worksheet-0",
    "slideshow": {
     "slide_type": "-"
    }
   },
   "source": [
    "Loading the dataset:"
   ]
  },
  {
   "cell_type": "code",
   "execution_count": 3,
   "metadata": {
    "autoscroll": false,
    "collapsed": true,
    "ein.tags": "worksheet-0",
    "slideshow": {
     "slide_type": "-"
    }
   },
   "outputs": [],
   "source": [
    "from sklearn.datasets import load_boston\n",
    "bdata = load_boston()"
   ]
  },
  {
   "cell_type": "markdown",
   "metadata": {
    "ein.tags": "worksheet-0",
    "slideshow": {
     "slide_type": "-"
    }
   },
   "source": [
    "Basic info about the dataset:"
   ]
  },
  {
   "cell_type": "code",
   "execution_count": 4,
   "metadata": {
    "autoscroll": false,
    "ein.tags": "worksheet-0",
    "slideshow": {
     "slide_type": "-"
    }
   },
   "outputs": [
    {
     "name": "stdout",
     "output_type": "stream",
     "text": [
      "dict_keys(['data', 'target', 'feature_names', 'DESCR'])\n",
      "['CRIM' 'ZN' 'INDUS' 'CHAS' 'NOX' 'RM' 'AGE' 'DIS' 'RAD' 'TAX' 'PTRATIO'\n",
      " 'B' 'LSTAT']\n",
      "(506, 13)\n",
      "(506,)\n",
      "Boston House Prices dataset\n",
      "===========================\n",
      "\n",
      "Notes\n",
      "------\n",
      "Data Set Characteristics:  \n",
      "\n",
      "    :Number of Instances: 506 \n",
      "\n",
      "    :Number of Attributes: 13 numeric/categorical predictive\n",
      "    \n",
      "    :Median Value (attribute 14) is usually the target\n",
      "\n",
      "    :Attribute Information (in order):\n",
      "        - CRIM     per capita crime rate by town\n",
      "        - ZN       proportion of residential land zoned for lots over 25,000 sq.ft.\n",
      "        - INDUS    proportion of non-retail business acres per town\n",
      "        - CHAS     Charles River dummy variable (= 1 if tract bounds river; 0 otherwise)\n",
      "        - NOX      nitric oxides concentration (parts per 10 million)\n",
      "        - RM       average number of rooms per dwelling\n",
      "        - AGE      proportion of owner-occupied units built prior to 1940\n",
      "        - DIS      weighted distances to five Boston employment centres\n",
      "        - RAD      index of accessibility to radial highways\n",
      "        - TAX      full-value property-tax rate per $10,000\n",
      "        - PTRATIO  pupil-teacher ratio by town\n",
      "        - B        1000(Bk - 0.63)^2 where Bk is the proportion of blacks by town\n",
      "        - LSTAT    % lower status of the population\n",
      "        - MEDV     Median value of owner-occupied homes in $1000's\n",
      "\n",
      "    :Missing Attribute Values: None\n",
      "\n",
      "    :Creator: Harrison, D. and Rubinfeld, D.L.\n",
      "\n",
      "This is a copy of UCI ML housing dataset.\n",
      "http://archive.ics.uci.edu/ml/datasets/Housing\n",
      "\n",
      "\n",
      "This dataset was taken from the StatLib library which is maintained at Carnegie Mellon University.\n",
      "\n",
      "The Boston house-price data of Harrison, D. and Rubinfeld, D.L. 'Hedonic\n",
      "prices and the demand for clean air', J. Environ. Economics & Management,\n",
      "vol.5, 81-102, 1978.   Used in Belsley, Kuh & Welsch, 'Regression diagnostics\n",
      "...', Wiley, 1980.   N.B. Various transformations are used in the table on\n",
      "pages 244-261 of the latter.\n",
      "\n",
      "The Boston house-price data has been used in many machine learning papers that address regression\n",
      "problems.   \n",
      "     \n",
      "**References**\n",
      "\n",
      "   - Belsley, Kuh & Welsch, 'Regression diagnostics: Identifying Influential Data and Sources of Collinearity', Wiley, 1980. 244-261.\n",
      "   - Quinlan,R. (1993). Combining Instance-Based and Model-Based Learning. In Proceedings on the Tenth International Conference of Machine Learning, 236-243, University of Massachusetts, Amherst. Morgan Kaufmann.\n",
      "   - many more! (see http://archive.ics.uci.edu/ml/datasets/Housing)\n",
      "\n"
     ]
    }
   ],
   "source": [
    "print (bdata.keys())\n",
    "print (bdata.feature_names)\n",
    "print (bdata.data.shape)\n",
    "print (bdata.target.shape)\n",
    "print (bdata.DESCR)"
   ]
  },
  {
   "cell_type": "code",
   "execution_count": 5,
   "metadata": {
    "autoscroll": false,
    "collapsed": true,
    "ein.tags": "worksheet-0",
    "slideshow": {
     "slide_type": "-"
    }
   },
   "outputs": [],
   "source": [
    "boston = pd.DataFrame(bdata.data)\n",
    "target = pd.DataFrame(bdata.target, columns=[\"MEDV\"])"
   ]
  },
  {
   "cell_type": "code",
   "execution_count": 6,
   "metadata": {
    "autoscroll": false,
    "ein.tags": "worksheet-0",
    "slideshow": {
     "slide_type": "-"
    }
   },
   "outputs": [
    {
     "name": "stdout",
     "output_type": "stream",
     "text": [
      "(506, 13)\n"
     ]
    }
   ],
   "source": [
    "boston.columns = bdata.feature_names[:]\n",
    "bostonTarget = boston.join(target)\n",
    "print (boston.shape)"
   ]
  },
  {
   "cell_type": "markdown",
   "metadata": {
    "ein.tags": "worksheet-0",
    "slideshow": {
     "slide_type": "-"
    }
   },
   "source": [
    "## Descriptive analysis"
   ]
  },
  {
   "cell_type": "code",
   "execution_count": 7,
   "metadata": {
    "autoscroll": false,
    "ein.tags": "worksheet-0",
    "slideshow": {
     "slide_type": "-"
    }
   },
   "outputs": [
    {
     "name": "stdout",
     "output_type": "stream",
     "text": [
      "13 variables\n",
      "506 observations\n",
      "35\n",
      "Empty DataFrame\n",
      "Columns: [CRIM, ZN, INDUS, CHAS, NOX, RM, AGE, DIS, RAD, TAX, PTRATIO, B, LSTAT]\n",
      "Index: []\n",
      "283    198.0\n",
      "225    307.0\n",
      "369    666.0\n",
      "370    666.0\n",
      "371    666.0\n",
      "Name: TAX, dtype: float64\n"
     ]
    }
   ],
   "source": [
    "print(boston.shape[1]  , \"variables\")\n",
    "print(boston.shape[0]  , \"observations\")\n",
    "print(len(boston[(boston['CHAS']>0)]))\n",
    "print(boston[boston.isnull().any(axis=1)])\n",
    "print(bostonTarget.sort_values('MEDV', ascending=False).head(5)['TAX'])"
   ]
  },
  {
   "cell_type": "markdown",
   "metadata": {
    "ein.tags": "worksheet-0",
    "slideshow": {
     "slide_type": "-"
    }
   },
   "source": []
  },
  {
   "cell_type": "markdown",
   "metadata": {
    "ein.tags": "worksheet-0",
    "slideshow": {
     "slide_type": "-"
    }
   },
   "source": [
    "Simple Questions\n",
    " -What is the median housing price in Boston's most expensive neighborhood?\n",
    " -How many neighborhoods have, on average, less than 5 rooms per dwelling?\n",
    " -What is the property tax rate in the most expensive neighborhood that is also adjacent to the Charles River?\n",
    " -What is the crime rate in the neighborhood with the highest median housing price? \n",
    " -What is the crime rate in the neighborhood with the lowest median housing price?"
   ]
  },
  {
   "cell_type": "code",
   "execution_count": 8,
   "metadata": {
    "autoscroll": false,
    "ein.tags": "worksheet-0",
    "slideshow": {
     "slide_type": "-"
    }
   },
   "outputs": [
    {
     "name": "stdout",
     "output_type": "stream",
     "text": [
      "283    50.0\n",
      "Name: MEDV, dtype: float64\n",
      "15\n",
      "372    50.0\n",
      "Name: MEDV, dtype: float64\n",
      "283    0.01501\n",
      "Name: CRIM, dtype: float64\n",
      "398    38.3518\n",
      "Name: CRIM, dtype: float64\n"
     ]
    }
   ],
   "source": [
    "print(bostonTarget.sort_values('MEDV', ascending=False).head(1)['MEDV'])\n",
    "print(len(boston[(boston['RM']<5)]))\n",
    "print(bostonTarget[(bostonTarget['CHAS']>0)].sort_values('MEDV', ascending=False).head(1)['MEDV'])\n",
    "print(bostonTarget.sort_values('MEDV', ascending=False).head(1)['CRIM'])\n",
    "print(bostonTarget.sort_values('MEDV').head(1)['CRIM'])"
   ]
  },
  {
   "cell_type": "markdown",
   "metadata": {
    "ein.tags": "worksheet-0",
    "slideshow": {
     "slide_type": "-"
    }
   },
   "source": []
  },
  {
   "cell_type": "markdown",
   "metadata": {
    "ein.tags": "worksheet-0",
    "slideshow": {
     "slide_type": "-"
    }
   },
   "source": [
    "### Summary statistics\n"
   ]
  },
  {
   "cell_type": "code",
   "execution_count": 9,
   "metadata": {
    "autoscroll": false,
    "ein.tags": "worksheet-0",
    "slideshow": {
     "slide_type": "-"
    }
   },
   "outputs": [
    {
     "data": {
      "text/html": [
       "<div>\n",
       "<style>\n",
       "    .dataframe thead tr:only-child th {\n",
       "        text-align: right;\n",
       "    }\n",
       "\n",
       "    .dataframe thead th {\n",
       "        text-align: left;\n",
       "    }\n",
       "\n",
       "    .dataframe tbody tr th {\n",
       "        vertical-align: top;\n",
       "    }\n",
       "</style>\n",
       "<table border=\"1\" class=\"dataframe\">\n",
       "  <thead>\n",
       "    <tr style=\"text-align: right;\">\n",
       "      <th></th>\n",
       "      <th>count</th>\n",
       "      <th>mean</th>\n",
       "      <th>std</th>\n",
       "      <th>min</th>\n",
       "      <th>50%</th>\n",
       "      <th>max</th>\n",
       "    </tr>\n",
       "  </thead>\n",
       "  <tbody>\n",
       "    <tr>\n",
       "      <th>CRIM</th>\n",
       "      <td>506.0</td>\n",
       "      <td>3.593761</td>\n",
       "      <td>8.596783</td>\n",
       "      <td>0.00632</td>\n",
       "      <td>0.25651</td>\n",
       "      <td>88.9762</td>\n",
       "    </tr>\n",
       "    <tr>\n",
       "      <th>ZN</th>\n",
       "      <td>506.0</td>\n",
       "      <td>11.363636</td>\n",
       "      <td>23.322453</td>\n",
       "      <td>0.00000</td>\n",
       "      <td>0.00000</td>\n",
       "      <td>100.0000</td>\n",
       "    </tr>\n",
       "    <tr>\n",
       "      <th>INDUS</th>\n",
       "      <td>506.0</td>\n",
       "      <td>11.136779</td>\n",
       "      <td>6.860353</td>\n",
       "      <td>0.46000</td>\n",
       "      <td>9.69000</td>\n",
       "      <td>27.7400</td>\n",
       "    </tr>\n",
       "    <tr>\n",
       "      <th>CHAS</th>\n",
       "      <td>506.0</td>\n",
       "      <td>0.069170</td>\n",
       "      <td>0.253994</td>\n",
       "      <td>0.00000</td>\n",
       "      <td>0.00000</td>\n",
       "      <td>1.0000</td>\n",
       "    </tr>\n",
       "    <tr>\n",
       "      <th>NOX</th>\n",
       "      <td>506.0</td>\n",
       "      <td>0.554695</td>\n",
       "      <td>0.115878</td>\n",
       "      <td>0.38500</td>\n",
       "      <td>0.53800</td>\n",
       "      <td>0.8710</td>\n",
       "    </tr>\n",
       "    <tr>\n",
       "      <th>RM</th>\n",
       "      <td>506.0</td>\n",
       "      <td>6.284634</td>\n",
       "      <td>0.702617</td>\n",
       "      <td>3.56100</td>\n",
       "      <td>6.20850</td>\n",
       "      <td>8.7800</td>\n",
       "    </tr>\n",
       "    <tr>\n",
       "      <th>AGE</th>\n",
       "      <td>506.0</td>\n",
       "      <td>68.574901</td>\n",
       "      <td>28.148861</td>\n",
       "      <td>2.90000</td>\n",
       "      <td>77.50000</td>\n",
       "      <td>100.0000</td>\n",
       "    </tr>\n",
       "    <tr>\n",
       "      <th>DIS</th>\n",
       "      <td>506.0</td>\n",
       "      <td>3.795043</td>\n",
       "      <td>2.105710</td>\n",
       "      <td>1.12960</td>\n",
       "      <td>3.20745</td>\n",
       "      <td>12.1265</td>\n",
       "    </tr>\n",
       "    <tr>\n",
       "      <th>RAD</th>\n",
       "      <td>506.0</td>\n",
       "      <td>9.549407</td>\n",
       "      <td>8.707259</td>\n",
       "      <td>1.00000</td>\n",
       "      <td>5.00000</td>\n",
       "      <td>24.0000</td>\n",
       "    </tr>\n",
       "    <tr>\n",
       "      <th>TAX</th>\n",
       "      <td>506.0</td>\n",
       "      <td>408.237154</td>\n",
       "      <td>168.537116</td>\n",
       "      <td>187.00000</td>\n",
       "      <td>330.00000</td>\n",
       "      <td>711.0000</td>\n",
       "    </tr>\n",
       "    <tr>\n",
       "      <th>PTRATIO</th>\n",
       "      <td>506.0</td>\n",
       "      <td>18.455534</td>\n",
       "      <td>2.164946</td>\n",
       "      <td>12.60000</td>\n",
       "      <td>19.05000</td>\n",
       "      <td>22.0000</td>\n",
       "    </tr>\n",
       "    <tr>\n",
       "      <th>B</th>\n",
       "      <td>506.0</td>\n",
       "      <td>356.674032</td>\n",
       "      <td>91.294864</td>\n",
       "      <td>0.32000</td>\n",
       "      <td>391.44000</td>\n",
       "      <td>396.9000</td>\n",
       "    </tr>\n",
       "    <tr>\n",
       "      <th>LSTAT</th>\n",
       "      <td>506.0</td>\n",
       "      <td>12.653063</td>\n",
       "      <td>7.141062</td>\n",
       "      <td>1.73000</td>\n",
       "      <td>11.36000</td>\n",
       "      <td>37.9700</td>\n",
       "    </tr>\n",
       "    <tr>\n",
       "      <th>MEDV</th>\n",
       "      <td>506.0</td>\n",
       "      <td>22.532806</td>\n",
       "      <td>9.197104</td>\n",
       "      <td>5.00000</td>\n",
       "      <td>21.20000</td>\n",
       "      <td>50.0000</td>\n",
       "    </tr>\n",
       "  </tbody>\n",
       "</table>\n",
       "</div>"
      ],
      "text/plain": [
       "         count        mean         std        min        50%       max\n",
       "CRIM     506.0    3.593761    8.596783    0.00632    0.25651   88.9762\n",
       "ZN       506.0   11.363636   23.322453    0.00000    0.00000  100.0000\n",
       "INDUS    506.0   11.136779    6.860353    0.46000    9.69000   27.7400\n",
       "CHAS     506.0    0.069170    0.253994    0.00000    0.00000    1.0000\n",
       "NOX      506.0    0.554695    0.115878    0.38500    0.53800    0.8710\n",
       "RM       506.0    6.284634    0.702617    3.56100    6.20850    8.7800\n",
       "AGE      506.0   68.574901   28.148861    2.90000   77.50000  100.0000\n",
       "DIS      506.0    3.795043    2.105710    1.12960    3.20745   12.1265\n",
       "RAD      506.0    9.549407    8.707259    1.00000    5.00000   24.0000\n",
       "TAX      506.0  408.237154  168.537116  187.00000  330.00000  711.0000\n",
       "PTRATIO  506.0   18.455534    2.164946   12.60000   19.05000   22.0000\n",
       "B        506.0  356.674032   91.294864    0.32000  391.44000  396.9000\n",
       "LSTAT    506.0   12.653063    7.141062    1.73000   11.36000   37.9700\n",
       "MEDV     506.0   22.532806    9.197104    5.00000   21.20000   50.0000"
      ]
     },
     "execution_count": 9,
     "metadata": {},
     "output_type": "execute_result"
    }
   ],
   "source": [
    "# enter your code here\n",
    "summary = bostonTarget.describe().transpose()[['count','mean','std','min','50%','max']]\n",
    "summary"
   ]
  },
  {
   "cell_type": "markdown",
   "metadata": {
    "ein.tags": "worksheet-0",
    "slideshow": {
     "slide_type": "-"
    }
   },
   "source": [
    "### T-test"
   ]
  },
  {
   "cell_type": "code",
   "execution_count": 11,
   "metadata": {
    "autoscroll": false,
    "ein.tags": "worksheet-0",
    "slideshow": {
     "slide_type": "-"
    }
   },
   "outputs": [
    {
     "name": "stdout",
     "output_type": "stream",
     "text": [
      "t = 3.99643746609\n",
      "p = 0.00014781246341\n"
     ]
    }
   ],
   "source": [
    "t, p = sp.stats.ttest_ind(bostonTarget[(bostonTarget['CHAS']>0)]['MEDV'],bostonTarget[(bostonTarget['CHAS']<1)]['MEDV'])\n",
    "print(\"t = \" + str(t))\n",
    "print(\"p = \" + str(2*p)) #two sided t-test"
   ]
  },
  {
   "cell_type": "markdown",
   "metadata": {
    "ein.tags": "worksheet-0",
    "slideshow": {
     "slide_type": "-"
    }
   },
   "source": [
    "We set up a t-test with the following hypothesis:\n",
    "Null Hypothesis: The prices of the two locations are equivalent\n",
    "Alternative Hypothesis: The prices of the two locations are not equivalent\n",
    "\n",
    "After running the t-test, the extrememly small p-value of \"0.00014781246341\" tells us that we must reject the null hypothesis that prices are equivalent for the alternative."
   ]
  },
  {
   "cell_type": "markdown",
   "metadata": {
    "ein.tags": "worksheet-0",
    "slideshow": {
     "slide_type": "-"
    }
   },
   "source": [
    "## Visualizations\n",
    "\n",
    "\n",
    "### Histogram of housing prices"
   ]
  },
  {
   "cell_type": "code",
   "execution_count": 12,
   "metadata": {
    "autoscroll": false,
    "ein.tags": "worksheet-0",
    "slideshow": {
     "slide_type": "-"
    }
   },
   "outputs": [
    {
     "data": {
      "image/png": "[encoded data removed]",
      "text/plain": [
       "<matplotlib.figure.Figure at 0x1a1396f0b8>"
      ]
     },
     "metadata": {},
     "output_type": "display_data"
    }
   ],
   "source": [
    "plt.hist(bdata.target, bins=np.arange(min(bdata.target), max(bdata.target) + 1, 1), color=\"green\")\n",
    "plt.xlabel(\"Median Price (thousands of dollars)\")\n",
    "plt.ylabel(\"Frequency\")\n",
    "plt.show()"
   ]
  },
  {
   "cell_type": "markdown",
   "metadata": {
    "ein.tags": "worksheet-0",
    "slideshow": {
     "slide_type": "-"
    }
   },
   "source": [
    "### Scatter plot of housing prices and crime"
   ]
  },
  {
   "cell_type": "code",
   "execution_count": 14,
   "metadata": {
    "autoscroll": false,
    "ein.tags": "worksheet-0",
    "slideshow": {
     "slide_type": "-"
    }
   },
   "outputs": [
    {
     "data": {
      "image/png": "[encoded data removed]",
      "text/plain": [
       "<matplotlib.figure.Figure at 0x1a1bd7b080>"
      ]
     },
     "metadata": {},
     "output_type": "display_data"
    },
    {
     "data": {
      "text/plain": [
       "-0.38583168988399058"
      ]
     },
     "execution_count": 14,
     "metadata": {},
     "output_type": "execute_result"
    }
   ],
   "source": [
    "plt.scatter(boston['CRIM'],bdata.target)\n",
    "plt.xlabel(\"Per Capita Crime Rate\")\n",
    "plt.ylabel(\"Median House Price (thousands of dollars)\")\n",
    "plt.show()\n",
    "\n",
    "boston['CRIM'].corr(bostonTarget['MEDV'])"
   ]
  },
  {
   "cell_type": "markdown",
   "metadata": {
    "ein.tags": "worksheet-0",
    "slideshow": {
     "slide_type": "-"
    }
   },
   "source": []
  },
  {
   "cell_type": "markdown",
   "metadata": {
    "ein.tags": "worksheet-0",
    "slideshow": {
     "slide_type": "-"
    }
   },
   "source": [
    "From the graph above, it seems as the median house price falls, the per capita crime rate increases. There does appear to be a relationship between the two variables, but we cannot make any causal claims. We can say that there is a correlation between the two variables. Calculating the correlation shows a r^2 value of -0.38583168988399058. Thus we can say that there is slightly larger than small negative correlation between the two variables. As mentioned above, we can still not infer causality from this. There could be many different lurking variables that could cause these phenomena to occur."
   ]
  },
  {
   "cell_type": "markdown",
   "metadata": {
    "ein.tags": "worksheet-0",
    "slideshow": {
     "slide_type": "-"
    }
   },
   "source": [
    "### Correlation Matrix"
   ]
  },
  {
   "cell_type": "code",
   "execution_count": 120,
   "metadata": {
    "autoscroll": false,
    "ein.tags": "worksheet-0",
    "slideshow": {
     "slide_type": "-"
    }
   },
   "outputs": [
    {
     "data": {
      "text/html": [
       "<style  type=\"text/css\" >\n",
       "    #T_eae08b08_fa76_11e7_8f0e_4a00022c6f90row0_col0 {\n",
       "            background-color:  rgba(0, 255, 0,1.0);\n",
       "        }    #T_eae08b08_fa76_11e7_8f0e_4a00022c6f90row0_col1 {\n",
       "            background-color:  rgba(255, 0, 0,0.1994579595336968);\n",
       "        }    #T_eae08b08_fa76_11e7_8f0e_4a00022c6f90row0_col2 {\n",
       "            background-color:  rgba(0, 255, 0,0.40447069716226064);\n",
       "        }    #T_eae08b08_fa76_11e7_8f0e_4a00022c6f90row0_col3 {\n",
       "            background-color:  rgba(255, 0, 0,0.055295257909239955);\n",
       "        }    #T_eae08b08_fa76_11e7_8f0e_4a00022c6f90row0_col4 {\n",
       "            background-color:  rgba(0, 255, 0,0.41752143110500095);\n",
       "        }    #T_eae08b08_fa76_11e7_8f0e_4a00022c6f90row0_col5 {\n",
       "            background-color:  rgba(255, 0, 0,0.21993979253191615);\n",
       "        }    #T_eae08b08_fa76_11e7_8f0e_4a00022c6f90row0_col6 {\n",
       "            background-color:  rgba(0, 255, 0,0.35078366499793767);\n",
       "        }    #T_eae08b08_fa76_11e7_8f0e_4a00022c6f90row0_col7 {\n",
       "            background-color:  rgba(255, 0, 0,0.377903602199695);\n",
       "        }    #T_eae08b08_fa76_11e7_8f0e_4a00022c6f90row0_col8 {\n",
       "            background-color:  rgba(0, 255, 0,0.6220289089402994);\n",
       "        }    #T_eae08b08_fa76_11e7_8f0e_4a00022c6f90row0_col9 {\n",
       "            background-color:  rgba(0, 255, 0,0.5795642796504387);\n",
       "        }    #T_eae08b08_fa76_11e7_8f0e_4a00022c6f90row0_col10 {\n",
       "            background-color:  rgba(0, 255, 0,0.2882501613676129);\n",
       "        }    #T_eae08b08_fa76_11e7_8f0e_4a00022c6f90row0_col11 {\n",
       "            background-color:  rgba(255, 0, 0,0.3773646152469908);\n",
       "        }    #T_eae08b08_fa76_11e7_8f0e_4a00022c6f90row0_col12 {\n",
       "            background-color:  rgba(0, 255, 0,0.4522202765343166);\n",
       "        }    #T_eae08b08_fa76_11e7_8f0e_4a00022c6f90row1_col0 {\n",
       "            background-color:  rgba(255, 0, 0,0.1994579595336968);\n",
       "        }    #T_eae08b08_fa76_11e7_8f0e_4a00022c6f90row1_col1 {\n",
       "            background-color:  rgba(0, 255, 0,1.0);\n",
       "        }    #T_eae08b08_fa76_11e7_8f0e_4a00022c6f90row1_col2 {\n",
       "            background-color:  rgba(255, 0, 0,0.5338281863044747);\n",
       "        }    #T_eae08b08_fa76_11e7_8f0e_4a00022c6f90row1_col3 {\n",
       "            background-color:  rgba(255, 0, 0,0.04269671929612121);\n",
       "        }    #T_eae08b08_fa76_11e7_8f0e_4a00022c6f90row1_col4 {\n",
       "            background-color:  rgba(255, 0, 0,0.5166037078279853);\n",
       "        }    #T_eae08b08_fa76_11e7_8f0e_4a00022c6f90row1_col5 {\n",
       "            background-color:  rgba(0, 255, 0,0.31199058737409197);\n",
       "        }    #T_eae08b08_fa76_11e7_8f0e_4a00022c6f90row1_col6 {\n",
       "            background-color:  rgba(255, 0, 0,0.5695373420992127);\n",
       "        }    #T_eae08b08_fa76_11e7_8f0e_4a00022c6f90row1_col7 {\n",
       "            background-color:  rgba(0, 255, 0,0.6644082227621132);\n",
       "        }    #T_eae08b08_fa76_11e7_8f0e_4a00022c6f90row1_col8 {\n",
       "            background-color:  rgba(255, 0, 0,0.31194782601853754);\n",
       "        }    #T_eae08b08_fa76_11e7_8f0e_4a00022c6f90row1_col9 {\n",
       "            background-color:  rgba(255, 0, 0,0.31456332467759884);\n",
       "        }    #T_eae08b08_fa76_11e7_8f0e_4a00022c6f90row1_col10 {\n",
       "            background-color:  rgba(255, 0, 0,0.3916785479362142);\n",
       "        }    #T_eae08b08_fa76_11e7_8f0e_4a00022c6f90row1_col11 {\n",
       "            background-color:  rgba(0, 255, 0,0.17552031738282844);\n",
       "        }    #T_eae08b08_fa76_11e7_8f0e_4a00022c6f90row1_col12 {\n",
       "            background-color:  rgba(255, 0, 0,0.4129945745270045);\n",
       "        }    #T_eae08b08_fa76_11e7_8f0e_4a00022c6f90row2_col0 {\n",
       "            background-color:  rgba(0, 255, 0,0.40447069716226064);\n",
       "        }    #T_eae08b08_fa76_11e7_8f0e_4a00022c6f90row2_col1 {\n",
       "            background-color:  rgba(255, 0, 0,0.5338281863044747);\n",
       "        }    #T_eae08b08_fa76_11e7_8f0e_4a00022c6f90row2_col2 {\n",
       "            background-color:  rgba(0, 255, 0,1.0);\n",
       "        }    #T_eae08b08_fa76_11e7_8f0e_4a00022c6f90row2_col3 {\n",
       "            background-color:  rgba(0, 255, 0,0.0629380274896654);\n",
       "        }    #T_eae08b08_fa76_11e7_8f0e_4a00022c6f90row2_col4 {\n",
       "            background-color:  rgba(0, 255, 0,0.7636514469209145);\n",
       "        }    #T_eae08b08_fa76_11e7_8f0e_4a00022c6f90row2_col5 {\n",
       "            background-color:  rgba(255, 0, 0,0.39167585265684357);\n",
       "        }    #T_eae08b08_fa76_11e7_8f0e_4a00022c6f90row2_col6 {\n",
       "            background-color:  rgba(0, 255, 0,0.644778511355255);\n",
       "        }    #T_eae08b08_fa76_11e7_8f0e_4a00022c6f90row2_col7 {\n",
       "            background-color:  rgba(255, 0, 0,0.7080269887427683);\n",
       "        }    #T_eae08b08_fa76_11e7_8f0e_4a00022c6f90row2_col8 {\n",
       "            background-color:  rgba(0, 255, 0,0.5951292746038486);\n",
       "        }    #T_eae08b08_fa76_11e7_8f0e_4a00022c6f90row2_col9 {\n",
       "            background-color:  rgba(0, 255, 0,0.7207601799515441);\n",
       "        }    #T_eae08b08_fa76_11e7_8f0e_4a00022c6f90row2_col10 {\n",
       "            background-color:  rgba(0, 255, 0,0.38324755642888675);\n",
       "        }    #T_eae08b08_fa76_11e7_8f0e_4a00022c6f90row2_col11 {\n",
       "            background-color:  rgba(255, 0, 0,0.3569765351041929);\n",
       "        }    #T_eae08b08_fa76_11e7_8f0e_4a00022c6f90row2_col12 {\n",
       "            background-color:  rgba(0, 255, 0,0.6037997164766213);\n",
       "        }    #T_eae08b08_fa76_11e7_8f0e_4a00022c6f90row3_col0 {\n",
       "            background-color:  rgba(255, 0, 0,0.055295257909239955);\n",
       "        }    #T_eae08b08_fa76_11e7_8f0e_4a00022c6f90row3_col1 {\n",
       "            background-color:  rgba(255, 0, 0,0.04269671929612121);\n",
       "        }    #T_eae08b08_fa76_11e7_8f0e_4a00022c6f90row3_col2 {\n",
       "            background-color:  rgba(0, 255, 0,0.0629380274896654);\n",
       "        }    #T_eae08b08_fa76_11e7_8f0e_4a00022c6f90row3_col3 {\n",
       "            background-color:  rgba(0, 255, 0,1.0);\n",
       "        }    #T_eae08b08_fa76_11e7_8f0e_4a00022c6f90row3_col4 {\n",
       "            background-color:  rgba(0, 255, 0,0.09120280684249406);\n",
       "        }    #T_eae08b08_fa76_11e7_8f0e_4a00022c6f90row3_col5 {\n",
       "            background-color:  rgba(0, 255, 0,0.09125122504345595);\n",
       "        }    #T_eae08b08_fa76_11e7_8f0e_4a00022c6f90row3_col6 {\n",
       "            background-color:  rgba(0, 255, 0,0.08651777425454257);\n",
       "        }    #T_eae08b08_fa76_11e7_8f0e_4a00022c6f90row3_col7 {\n",
       "            background-color:  rgba(255, 0, 0,0.09917578017472706);\n",
       "        }    #T_eae08b08_fa76_11e7_8f0e_4a00022c6f90row3_col8 {\n",
       "            background-color:  rgba(255, 0, 0,0.007368240886077726);\n",
       "        }    #T_eae08b08_fa76_11e7_8f0e_4a00022c6f90row3_col9 {\n",
       "            background-color:  rgba(255, 0, 0,0.03558651758591118);\n",
       "        }    #T_eae08b08_fa76_11e7_8f0e_4a00022c6f90row3_col10 {\n",
       "            background-color:  rgba(255, 0, 0,0.121515173658062);\n",
       "        }    #T_eae08b08_fa76_11e7_8f0e_4a00022c6f90row3_col11 {\n",
       "            background-color:  rgba(0, 255, 0,0.04878848495516622);\n",
       "        }    #T_eae08b08_fa76_11e7_8f0e_4a00022c6f90row3_col12 {\n",
       "            background-color:  rgba(255, 0, 0,0.05392929837569404);\n",
       "        }    #T_eae08b08_fa76_11e7_8f0e_4a00022c6f90row4_col0 {\n",
       "            background-color:  rgba(0, 255, 0,0.41752143110500095);\n",
       "        }    #T_eae08b08_fa76_11e7_8f0e_4a00022c6f90row4_col1 {\n",
       "            background-color:  rgba(255, 0, 0,0.5166037078279853);\n",
       "        }    #T_eae08b08_fa76_11e7_8f0e_4a00022c6f90row4_col2 {\n",
       "            background-color:  rgba(0, 255, 0,0.7636514469209145);\n",
       "        }    #T_eae08b08_fa76_11e7_8f0e_4a00022c6f90row4_col3 {\n",
       "            background-color:  rgba(0, 255, 0,0.09120280684249406);\n",
       "        }    #T_eae08b08_fa76_11e7_8f0e_4a00022c6f90row4_col4 {\n",
       "            background-color:  rgba(0, 255, 0,1.0);\n",
       "        }    #T_eae08b08_fa76_11e7_8f0e_4a00022c6f90row4_col5 {\n",
       "            background-color:  rgba(255, 0, 0,0.3021881878495933);\n",
       "        }    #T_eae08b08_fa76_11e7_8f0e_4a00022c6f90row4_col6 {\n",
       "            background-color:  rgba(0, 255, 0,0.7314701037859579);\n",
       "        }    #T_eae08b08_fa76_11e7_8f0e_4a00022c6f90row4_col7 {\n",
       "            background-color:  rgba(255, 0, 0,0.7692301132258261);\n",
       "        }    #T_eae08b08_fa76_11e7_8f0e_4a00022c6f90row4_col8 {\n",
       "            background-color:  rgba(0, 255, 0,0.6114405634855754);\n",
       "        }    #T_eae08b08_fa76_11e7_8f0e_4a00022c6f90row4_col9 {\n",
       "            background-color:  rgba(0, 255, 0,0.6680232004030201);\n",
       "        }    #T_eae08b08_fa76_11e7_8f0e_4a00022c6f90row4_col10 {\n",
       "            background-color:  rgba(0, 255, 0,0.18893267711276665);\n",
       "        }    #T_eae08b08_fa76_11e7_8f0e_4a00022c6f90row4_col11 {\n",
       "            background-color:  rgba(255, 0, 0,0.3800506377924003);\n",
       "        }    #T_eae08b08_fa76_11e7_8f0e_4a00022c6f90row4_col12 {\n",
       "            background-color:  rgba(0, 255, 0,0.5908789208808449);\n",
       "        }    #T_eae08b08_fa76_11e7_8f0e_4a00022c6f90row5_col0 {\n",
       "            background-color:  rgba(255, 0, 0,0.21993979253191615);\n",
       "        }    #T_eae08b08_fa76_11e7_8f0e_4a00022c6f90row5_col1 {\n",
       "            background-color:  rgba(0, 255, 0,0.31199058737409197);\n",
       "        }    #T_eae08b08_fa76_11e7_8f0e_4a00022c6f90row5_col2 {\n",
       "            background-color:  rgba(255, 0, 0,0.39167585265684357);\n",
       "        }    #T_eae08b08_fa76_11e7_8f0e_4a00022c6f90row5_col3 {\n",
       "            background-color:  rgba(0, 255, 0,0.09125122504345595);\n",
       "        }    #T_eae08b08_fa76_11e7_8f0e_4a00022c6f90row5_col4 {\n",
       "            background-color:  rgba(255, 0, 0,0.3021881878495933);\n",
       "        }    #T_eae08b08_fa76_11e7_8f0e_4a00022c6f90row5_col5 {\n",
       "            background-color:  rgba(0, 255, 0,1.0);\n",
       "        }    #T_eae08b08_fa76_11e7_8f0e_4a00022c6f90row5_col6 {\n",
       "            background-color:  rgba(255, 0, 0,0.24026493104775123);\n",
       "        }    #T_eae08b08_fa76_11e7_8f0e_4a00022c6f90row5_col7 {\n",
       "            background-color:  rgba(0, 255, 0,0.20524621293005516);\n",
       "        }    #T_eae08b08_fa76_11e7_8f0e_4a00022c6f90row5_col8 {\n",
       "            background-color:  rgba(255, 0, 0,0.20984666776610877);\n",
       "        }    #T_eae08b08_fa76_11e7_8f0e_4a00022c6f90row5_col9 {\n",
       "            background-color:  rgba(255, 0, 0,0.29204783262321915);\n",
       "        }    #T_eae08b08_fa76_11e7_8f0e_4a00022c6f90row5_col10 {\n",
       "            background-color:  rgba(255, 0, 0,0.3555014945590849);\n",
       "        }    #T_eae08b08_fa76_11e7_8f0e_4a00022c6f90row5_col11 {\n",
       "            background-color:  rgba(0, 255, 0,0.1280686350925431);\n",
       "        }    #T_eae08b08_fa76_11e7_8f0e_4a00022c6f90row5_col12 {\n",
       "            background-color:  rgba(255, 0, 0,0.6138082718663957);\n",
       "        }    #T_eae08b08_fa76_11e7_8f0e_4a00022c6f90row6_col0 {\n",
       "            background-color:  rgba(0, 255, 0,0.35078366499793767);\n",
       "        }    #T_eae08b08_fa76_11e7_8f0e_4a00022c6f90row6_col1 {\n",
       "            background-color:  rgba(255, 0, 0,0.5695373420992127);\n",
       "        }    #T_eae08b08_fa76_11e7_8f0e_4a00022c6f90row6_col2 {\n",
       "            background-color:  rgba(0, 255, 0,0.644778511355255);\n",
       "        }    #T_eae08b08_fa76_11e7_8f0e_4a00022c6f90row6_col3 {\n",
       "            background-color:  rgba(0, 255, 0,0.08651777425454257);\n",
       "        }    #T_eae08b08_fa76_11e7_8f0e_4a00022c6f90row6_col4 {\n",
       "            background-color:  rgba(0, 255, 0,0.7314701037859579);\n",
       "        }    #T_eae08b08_fa76_11e7_8f0e_4a00022c6f90row6_col5 {\n",
       "            background-color:  rgba(255, 0, 0,0.24026493104775123);\n",
       "        }    #T_eae08b08_fa76_11e7_8f0e_4a00022c6f90row6_col6 {\n",
       "            background-color:  rgba(0, 255, 0,1.0);\n",
       "        }    #T_eae08b08_fa76_11e7_8f0e_4a00022c6f90row6_col7 {\n",
       "            background-color:  rgba(255, 0, 0,0.7478805408686316);\n",
       "        }    #T_eae08b08_fa76_11e7_8f0e_4a00022c6f90row6_col8 {\n",
       "            background-color:  rgba(0, 255, 0,0.4560224517516134);\n",
       "        }    #T_eae08b08_fa76_11e7_8f0e_4a00022c6f90row6_col9 {\n",
       "            background-color:  rgba(0, 255, 0,0.506455593550705);\n",
       "        }    #T_eae08b08_fa76_11e7_8f0e_4a00022c6f90row6_col10 {\n",
       "            background-color:  rgba(0, 255, 0,0.2615150116719572);\n",
       "        }    #T_eae08b08_fa76_11e7_8f0e_4a00022c6f90row6_col11 {\n",
       "            background-color:  rgba(255, 0, 0,0.27353397663851314);\n",
       "        }    #T_eae08b08_fa76_11e7_8f0e_4a00022c6f90row6_col12 {\n",
       "            background-color:  rgba(0, 255, 0,0.6023385287262399);\n",
       "        }    #T_eae08b08_fa76_11e7_8f0e_4a00022c6f90row7_col0 {\n",
       "            background-color:  rgba(255, 0, 0,0.377903602199695);\n",
       "        }    #T_eae08b08_fa76_11e7_8f0e_4a00022c6f90row7_col1 {\n",
       "            background-color:  rgba(0, 255, 0,0.6644082227621132);\n",
       "        }    #T_eae08b08_fa76_11e7_8f0e_4a00022c6f90row7_col2 {\n",
       "            background-color:  rgba(255, 0, 0,0.7080269887427683);\n",
       "        }    #T_eae08b08_fa76_11e7_8f0e_4a00022c6f90row7_col3 {\n",
       "            background-color:  rgba(255, 0, 0,0.09917578017472706);\n",
       "        }    #T_eae08b08_fa76_11e7_8f0e_4a00022c6f90row7_col4 {\n",
       "            background-color:  rgba(255, 0, 0,0.7692301132258261);\n",
       "        }    #T_eae08b08_fa76_11e7_8f0e_4a00022c6f90row7_col5 {\n",
       "            background-color:  rgba(0, 255, 0,0.20524621293005516);\n",
       "        }    #T_eae08b08_fa76_11e7_8f0e_4a00022c6f90row7_col6 {\n",
       "            background-color:  rgba(255, 0, 0,0.7478805408686316);\n",
       "        }    #T_eae08b08_fa76_11e7_8f0e_4a00022c6f90row7_col7 {\n",
       "            background-color:  rgba(0, 255, 0,1.0);\n",
       "        }    #T_eae08b08_fa76_11e7_8f0e_4a00022c6f90row7_col8 {\n",
       "            background-color:  rgba(255, 0, 0,0.49458792967207543);\n",
       "        }    #T_eae08b08_fa76_11e7_8f0e_4a00022c6f90row7_col9 {\n",
       "            background-color:  rgba(255, 0, 0,0.5344315844084561);\n",
       "        }    #T_eae08b08_fa76_11e7_8f0e_4a00022c6f90row7_col10 {\n",
       "            background-color:  rgba(255, 0, 0,0.23247054240825624);\n",
       "        }    #T_eae08b08_fa76_11e7_8f0e_4a00022c6f90row7_col11 {\n",
       "            background-color:  rgba(0, 255, 0,0.2915116731330401);\n",
       "        }    #T_eae08b08_fa76_11e7_8f0e_4a00022c6f90row7_col12 {\n",
       "            background-color:  rgba(255, 0, 0,0.4969958308636852);\n",
       "        }    #T_eae08b08_fa76_11e7_8f0e_4a00022c6f90row8_col0 {\n",
       "            background-color:  rgba(0, 255, 0,0.6220289089402994);\n",
       "        }    #T_eae08b08_fa76_11e7_8f0e_4a00022c6f90row8_col1 {\n",
       "            background-color:  rgba(255, 0, 0,0.31194782601853754);\n",
       "        }    #T_eae08b08_fa76_11e7_8f0e_4a00022c6f90row8_col2 {\n",
       "            background-color:  rgba(0, 255, 0,0.5951292746038486);\n",
       "        }    #T_eae08b08_fa76_11e7_8f0e_4a00022c6f90row8_col3 {\n",
       "            background-color:  rgba(255, 0, 0,0.007368240886077726);\n",
       "        }    #T_eae08b08_fa76_11e7_8f0e_4a00022c6f90row8_col4 {\n",
       "            background-color:  rgba(0, 255, 0,0.6114405634855754);\n",
       "        }    #T_eae08b08_fa76_11e7_8f0e_4a00022c6f90row8_col5 {\n",
       "            background-color:  rgba(255, 0, 0,0.20984666776610877);\n",
       "        }    #T_eae08b08_fa76_11e7_8f0e_4a00022c6f90row8_col6 {\n",
       "            background-color:  rgba(0, 255, 0,0.4560224517516134);\n",
       "        }    #T_eae08b08_fa76_11e7_8f0e_4a00022c6f90row8_col7 {\n",
       "            background-color:  rgba(255, 0, 0,0.49458792967207543);\n",
       "        }    #T_eae08b08_fa76_11e7_8f0e_4a00022c6f90row8_col8 {\n",
       "            background-color:  rgba(0, 255, 0,1.0);\n",
       "        }    #T_eae08b08_fa76_11e7_8f0e_4a00022c6f90row8_col9 {\n",
       "            background-color:  rgba(0, 255, 0,0.9102281885331822);\n",
       "        }    #T_eae08b08_fa76_11e7_8f0e_4a00022c6f90row8_col10 {\n",
       "            background-color:  rgba(0, 255, 0,0.46474117850305435);\n",
       "        }    #T_eae08b08_fa76_11e7_8f0e_4a00022c6f90row8_col11 {\n",
       "            background-color:  rgba(255, 0, 0,0.44441281557512574);\n",
       "        }    #T_eae08b08_fa76_11e7_8f0e_4a00022c6f90row8_col12 {\n",
       "            background-color:  rgba(0, 255, 0,0.4886763349750664);\n",
       "        }    #T_eae08b08_fa76_11e7_8f0e_4a00022c6f90row9_col0 {\n",
       "            background-color:  rgba(0, 255, 0,0.5795642796504387);\n",
       "        }    #T_eae08b08_fa76_11e7_8f0e_4a00022c6f90row9_col1 {\n",
       "            background-color:  rgba(255, 0, 0,0.31456332467759884);\n",
       "        }    #T_eae08b08_fa76_11e7_8f0e_4a00022c6f90row9_col2 {\n",
       "            background-color:  rgba(0, 255, 0,0.7207601799515441);\n",
       "        }    #T_eae08b08_fa76_11e7_8f0e_4a00022c6f90row9_col3 {\n",
       "            background-color:  rgba(255, 0, 0,0.03558651758591118);\n",
       "        }    #T_eae08b08_fa76_11e7_8f0e_4a00022c6f90row9_col4 {\n",
       "            background-color:  rgba(0, 255, 0,0.6680232004030201);\n",
       "        }    #T_eae08b08_fa76_11e7_8f0e_4a00022c6f90row9_col5 {\n",
       "            background-color:  rgba(255, 0, 0,0.29204783262321915);\n",
       "        }    #T_eae08b08_fa76_11e7_8f0e_4a00022c6f90row9_col6 {\n",
       "            background-color:  rgba(0, 255, 0,0.506455593550705);\n",
       "        }    #T_eae08b08_fa76_11e7_8f0e_4a00022c6f90row9_col7 {\n",
       "            background-color:  rgba(255, 0, 0,0.5344315844084561);\n",
       "        }    #T_eae08b08_fa76_11e7_8f0e_4a00022c6f90row9_col8 {\n",
       "            background-color:  rgba(0, 255, 0,0.9102281885331822);\n",
       "        }    #T_eae08b08_fa76_11e7_8f0e_4a00022c6f90row9_col9 {\n",
       "            background-color:  rgba(0, 255, 0,1.0);\n",
       "        }    #T_eae08b08_fa76_11e7_8f0e_4a00022c6f90row9_col10 {\n",
       "            background-color:  rgba(0, 255, 0,0.4608530350656657);\n",
       "        }    #T_eae08b08_fa76_11e7_8f0e_4a00022c6f90row9_col11 {\n",
       "            background-color:  rgba(255, 0, 0,0.44180800672281384);\n",
       "        }    #T_eae08b08_fa76_11e7_8f0e_4a00022c6f90row9_col12 {\n",
       "            background-color:  rgba(0, 255, 0,0.543993412001569);\n",
       "        }    #T_eae08b08_fa76_11e7_8f0e_4a00022c6f90row10_col0 {\n",
       "            background-color:  rgba(0, 255, 0,0.2882501613676129);\n",
       "        }    #T_eae08b08_fa76_11e7_8f0e_4a00022c6f90row10_col1 {\n",
       "            background-color:  rgba(255, 0, 0,0.3916785479362142);\n",
       "        }    #T_eae08b08_fa76_11e7_8f0e_4a00022c6f90row10_col2 {\n",
       "            background-color:  rgba(0, 255, 0,0.38324755642888675);\n",
       "        }    #T_eae08b08_fa76_11e7_8f0e_4a00022c6f90row10_col3 {\n",
       "            background-color:  rgba(255, 0, 0,0.121515173658062);\n",
       "        }    #T_eae08b08_fa76_11e7_8f0e_4a00022c6f90row10_col4 {\n",
       "            background-color:  rgba(0, 255, 0,0.18893267711276665);\n",
       "        }    #T_eae08b08_fa76_11e7_8f0e_4a00022c6f90row10_col5 {\n",
       "            background-color:  rgba(255, 0, 0,0.3555014945590849);\n",
       "        }    #T_eae08b08_fa76_11e7_8f0e_4a00022c6f90row10_col6 {\n",
       "            background-color:  rgba(0, 255, 0,0.2615150116719572);\n",
       "        }    #T_eae08b08_fa76_11e7_8f0e_4a00022c6f90row10_col7 {\n",
       "            background-color:  rgba(255, 0, 0,0.23247054240825624);\n",
       "        }    #T_eae08b08_fa76_11e7_8f0e_4a00022c6f90row10_col8 {\n",
       "            background-color:  rgba(0, 255, 0,0.46474117850305435);\n",
       "        }    #T_eae08b08_fa76_11e7_8f0e_4a00022c6f90row10_col9 {\n",
       "            background-color:  rgba(0, 255, 0,0.4608530350656657);\n",
       "        }    #T_eae08b08_fa76_11e7_8f0e_4a00022c6f90row10_col10 {\n",
       "            background-color:  rgba(0, 255, 0,1.0);\n",
       "        }    #T_eae08b08_fa76_11e7_8f0e_4a00022c6f90row10_col11 {\n",
       "            background-color:  rgba(255, 0, 0,0.17738330230523142);\n",
       "        }    #T_eae08b08_fa76_11e7_8f0e_4a00022c6f90row10_col12 {\n",
       "            background-color:  rgba(0, 255, 0,0.3740443167146754);\n",
       "        }    #T_eae08b08_fa76_11e7_8f0e_4a00022c6f90row11_col0 {\n",
       "            background-color:  rgba(255, 0, 0,0.3773646152469908);\n",
       "        }    #T_eae08b08_fa76_11e7_8f0e_4a00022c6f90row11_col1 {\n",
       "            background-color:  rgba(0, 255, 0,0.17552031738282844);\n",
       "        }    #T_eae08b08_fa76_11e7_8f0e_4a00022c6f90row11_col2 {\n",
       "            background-color:  rgba(255, 0, 0,0.3569765351041929);\n",
       "        }    #T_eae08b08_fa76_11e7_8f0e_4a00022c6f90row11_col3 {\n",
       "            background-color:  rgba(0, 255, 0,0.04878848495516622);\n",
       "        }    #T_eae08b08_fa76_11e7_8f0e_4a00022c6f90row11_col4 {\n",
       "            background-color:  rgba(255, 0, 0,0.3800506377924003);\n",
       "        }    #T_eae08b08_fa76_11e7_8f0e_4a00022c6f90row11_col5 {\n",
       "            background-color:  rgba(0, 255, 0,0.1280686350925431);\n",
       "        }    #T_eae08b08_fa76_11e7_8f0e_4a00022c6f90row11_col6 {\n",
       "            background-color:  rgba(255, 0, 0,0.27353397663851314);\n",
       "        }    #T_eae08b08_fa76_11e7_8f0e_4a00022c6f90row11_col7 {\n",
       "            background-color:  rgba(0, 255, 0,0.2915116731330401);\n",
       "        }    #T_eae08b08_fa76_11e7_8f0e_4a00022c6f90row11_col8 {\n",
       "            background-color:  rgba(255, 0, 0,0.44441281557512574);\n",
       "        }    #T_eae08b08_fa76_11e7_8f0e_4a00022c6f90row11_col9 {\n",
       "            background-color:  rgba(255, 0, 0,0.44180800672281384);\n",
       "        }    #T_eae08b08_fa76_11e7_8f0e_4a00022c6f90row11_col10 {\n",
       "            background-color:  rgba(255, 0, 0,0.17738330230523142);\n",
       "        }    #T_eae08b08_fa76_11e7_8f0e_4a00022c6f90row11_col11 {\n",
       "            background-color:  rgba(0, 255, 0,1.0);\n",
       "        }    #T_eae08b08_fa76_11e7_8f0e_4a00022c6f90row11_col12 {\n",
       "            background-color:  rgba(255, 0, 0,0.3660869016915971);\n",
       "        }    #T_eae08b08_fa76_11e7_8f0e_4a00022c6f90row12_col0 {\n",
       "            background-color:  rgba(0, 255, 0,0.4522202765343166);\n",
       "        }    #T_eae08b08_fa76_11e7_8f0e_4a00022c6f90row12_col1 {\n",
       "            background-color:  rgba(255, 0, 0,0.4129945745270045);\n",
       "        }    #T_eae08b08_fa76_11e7_8f0e_4a00022c6f90row12_col2 {\n",
       "            background-color:  rgba(0, 255, 0,0.6037997164766213);\n",
       "        }    #T_eae08b08_fa76_11e7_8f0e_4a00022c6f90row12_col3 {\n",
       "            background-color:  rgba(255, 0, 0,0.05392929837569404);\n",
       "        }    #T_eae08b08_fa76_11e7_8f0e_4a00022c6f90row12_col4 {\n",
       "            background-color:  rgba(0, 255, 0,0.5908789208808449);\n",
       "        }    #T_eae08b08_fa76_11e7_8f0e_4a00022c6f90row12_col5 {\n",
       "            background-color:  rgba(255, 0, 0,0.6138082718663957);\n",
       "        }    #T_eae08b08_fa76_11e7_8f0e_4a00022c6f90row12_col6 {\n",
       "            background-color:  rgba(0, 255, 0,0.6023385287262399);\n",
       "        }    #T_eae08b08_fa76_11e7_8f0e_4a00022c6f90row12_col7 {\n",
       "            background-color:  rgba(255, 0, 0,0.4969958308636852);\n",
       "        }    #T_eae08b08_fa76_11e7_8f0e_4a00022c6f90row12_col8 {\n",
       "            background-color:  rgba(0, 255, 0,0.4886763349750664);\n",
       "        }    #T_eae08b08_fa76_11e7_8f0e_4a00022c6f90row12_col9 {\n",
       "            background-color:  rgba(0, 255, 0,0.543993412001569);\n",
       "        }    #T_eae08b08_fa76_11e7_8f0e_4a00022c6f90row12_col10 {\n",
       "            background-color:  rgba(0, 255, 0,0.3740443167146754);\n",
       "        }    #T_eae08b08_fa76_11e7_8f0e_4a00022c6f90row12_col11 {\n",
       "            background-color:  rgba(255, 0, 0,0.3660869016915971);\n",
       "        }    #T_eae08b08_fa76_11e7_8f0e_4a00022c6f90row12_col12 {\n",
       "            background-color:  rgba(0, 255, 0,1.0);\n",
       "        }</style>  \n",
       "<table id=\"T_eae08b08_fa76_11e7_8f0e_4a00022c6f90\" > \n",
       "<thead>    <tr> \n",
       "        <th class=\"blank level0\" ></th> \n",
       "        <th class=\"col_heading level0 col0\" >CRIM</th> \n",
       "        <th class=\"col_heading level0 col1\" >ZN</th> \n",
       "        <th class=\"col_heading level0 col2\" >INDUS</th> \n",
       "        <th class=\"col_heading level0 col3\" >CHAS</th> \n",
       "        <th class=\"col_heading level0 col4\" >NOX</th> \n",
       "        <th class=\"col_heading level0 col5\" >RM</th> \n",
       "        <th class=\"col_heading level0 col6\" >AGE</th> \n",
       "        <th class=\"col_heading level0 col7\" >DIS</th> \n",
       "        <th class=\"col_heading level0 col8\" >RAD</th> \n",
       "        <th class=\"col_heading level0 col9\" >TAX</th> \n",
       "        <th class=\"col_heading level0 col10\" >PTRATIO</th> \n",
       "        <th class=\"col_heading level0 col11\" >B</th> \n",
       "        <th class=\"col_heading level0 col12\" >LSTAT</th> \n",
       "    </tr></thead> \n",
       "<tbody>    <tr> \n",
       "        <th id=\"T_eae08b08_fa76_11e7_8f0e_4a00022c6f90level0_row0\" class=\"row_heading level0 row0\" >CRIM</th> \n",
       "        <td id=\"T_eae08b08_fa76_11e7_8f0e_4a00022c6f90row0_col0\" class=\"data row0 col0\" >1</td> \n",
       "        <td id=\"T_eae08b08_fa76_11e7_8f0e_4a00022c6f90row0_col1\" class=\"data row0 col1\" >-0.199458</td> \n",
       "        <td id=\"T_eae08b08_fa76_11e7_8f0e_4a00022c6f90row0_col2\" class=\"data row0 col2\" >0.404471</td> \n",
       "        <td id=\"T_eae08b08_fa76_11e7_8f0e_4a00022c6f90row0_col3\" class=\"data row0 col3\" >-0.0552953</td> \n",
       "        <td id=\"T_eae08b08_fa76_11e7_8f0e_4a00022c6f90row0_col4\" class=\"data row0 col4\" >0.417521</td> \n",
       "        <td id=\"T_eae08b08_fa76_11e7_8f0e_4a00022c6f90row0_col5\" class=\"data row0 col5\" >-0.21994</td> \n",
       "        <td id=\"T_eae08b08_fa76_11e7_8f0e_4a00022c6f90row0_col6\" class=\"data row0 col6\" >0.350784</td> \n",
       "        <td id=\"T_eae08b08_fa76_11e7_8f0e_4a00022c6f90row0_col7\" class=\"data row0 col7\" >-0.377904</td> \n",
       "        <td id=\"T_eae08b08_fa76_11e7_8f0e_4a00022c6f90row0_col8\" class=\"data row0 col8\" >0.622029</td> \n",
       "        <td id=\"T_eae08b08_fa76_11e7_8f0e_4a00022c6f90row0_col9\" class=\"data row0 col9\" >0.579564</td> \n",
       "        <td id=\"T_eae08b08_fa76_11e7_8f0e_4a00022c6f90row0_col10\" class=\"data row0 col10\" >0.28825</td> \n",
       "        <td id=\"T_eae08b08_fa76_11e7_8f0e_4a00022c6f90row0_col11\" class=\"data row0 col11\" >-0.377365</td> \n",
       "        <td id=\"T_eae08b08_fa76_11e7_8f0e_4a00022c6f90row0_col12\" class=\"data row0 col12\" >0.45222</td> \n",
       "    </tr>    <tr> \n",
       "        <th id=\"T_eae08b08_fa76_11e7_8f0e_4a00022c6f90level0_row1\" class=\"row_heading level0 row1\" >ZN</th> \n",
       "        <td id=\"T_eae08b08_fa76_11e7_8f0e_4a00022c6f90row1_col0\" class=\"data row1 col0\" >-0.199458</td> \n",
       "        <td id=\"T_eae08b08_fa76_11e7_8f0e_4a00022c6f90row1_col1\" class=\"data row1 col1\" >1</td> \n",
       "        <td id=\"T_eae08b08_fa76_11e7_8f0e_4a00022c6f90row1_col2\" class=\"data row1 col2\" >-0.533828</td> \n",
       "        <td id=\"T_eae08b08_fa76_11e7_8f0e_4a00022c6f90row1_col3\" class=\"data row1 col3\" >-0.0426967</td> \n",
       "        <td id=\"T_eae08b08_fa76_11e7_8f0e_4a00022c6f90row1_col4\" class=\"data row1 col4\" >-0.516604</td> \n",
       "        <td id=\"T_eae08b08_fa76_11e7_8f0e_4a00022c6f90row1_col5\" class=\"data row1 col5\" >0.311991</td> \n",
       "        <td id=\"T_eae08b08_fa76_11e7_8f0e_4a00022c6f90row1_col6\" class=\"data row1 col6\" >-0.569537</td> \n",
       "        <td id=\"T_eae08b08_fa76_11e7_8f0e_4a00022c6f90row1_col7\" class=\"data row1 col7\" >0.664408</td> \n",
       "        <td id=\"T_eae08b08_fa76_11e7_8f0e_4a00022c6f90row1_col8\" class=\"data row1 col8\" >-0.311948</td> \n",
       "        <td id=\"T_eae08b08_fa76_11e7_8f0e_4a00022c6f90row1_col9\" class=\"data row1 col9\" >-0.314563</td> \n",
       "        <td id=\"T_eae08b08_fa76_11e7_8f0e_4a00022c6f90row1_col10\" class=\"data row1 col10\" >-0.391679</td> \n",
       "        <td id=\"T_eae08b08_fa76_11e7_8f0e_4a00022c6f90row1_col11\" class=\"data row1 col11\" >0.17552</td> \n",
       "        <td id=\"T_eae08b08_fa76_11e7_8f0e_4a00022c6f90row1_col12\" class=\"data row1 col12\" >-0.412995</td> \n",
       "    </tr>    <tr> \n",
       "        <th id=\"T_eae08b08_fa76_11e7_8f0e_4a00022c6f90level0_row2\" class=\"row_heading level0 row2\" >INDUS</th> \n",
       "        <td id=\"T_eae08b08_fa76_11e7_8f0e_4a00022c6f90row2_col0\" class=\"data row2 col0\" >0.404471</td> \n",
       "        <td id=\"T_eae08b08_fa76_11e7_8f0e_4a00022c6f90row2_col1\" class=\"data row2 col1\" >-0.533828</td> \n",
       "        <td id=\"T_eae08b08_fa76_11e7_8f0e_4a00022c6f90row2_col2\" class=\"data row2 col2\" >1</td> \n",
       "        <td id=\"T_eae08b08_fa76_11e7_8f0e_4a00022c6f90row2_col3\" class=\"data row2 col3\" >0.062938</td> \n",
       "        <td id=\"T_eae08b08_fa76_11e7_8f0e_4a00022c6f90row2_col4\" class=\"data row2 col4\" >0.763651</td> \n",
       "        <td id=\"T_eae08b08_fa76_11e7_8f0e_4a00022c6f90row2_col5\" class=\"data row2 col5\" >-0.391676</td> \n",
       "        <td id=\"T_eae08b08_fa76_11e7_8f0e_4a00022c6f90row2_col6\" class=\"data row2 col6\" >0.644779</td> \n",
       "        <td id=\"T_eae08b08_fa76_11e7_8f0e_4a00022c6f90row2_col7\" class=\"data row2 col7\" >-0.708027</td> \n",
       "        <td id=\"T_eae08b08_fa76_11e7_8f0e_4a00022c6f90row2_col8\" class=\"data row2 col8\" >0.595129</td> \n",
       "        <td id=\"T_eae08b08_fa76_11e7_8f0e_4a00022c6f90row2_col9\" class=\"data row2 col9\" >0.72076</td> \n",
       "        <td id=\"T_eae08b08_fa76_11e7_8f0e_4a00022c6f90row2_col10\" class=\"data row2 col10\" >0.383248</td> \n",
       "        <td id=\"T_eae08b08_fa76_11e7_8f0e_4a00022c6f90row2_col11\" class=\"data row2 col11\" >-0.356977</td> \n",
       "        <td id=\"T_eae08b08_fa76_11e7_8f0e_4a00022c6f90row2_col12\" class=\"data row2 col12\" >0.6038</td> \n",
       "    </tr>    <tr> \n",
       "        <th id=\"T_eae08b08_fa76_11e7_8f0e_4a00022c6f90level0_row3\" class=\"row_heading level0 row3\" >CHAS</th> \n",
       "        <td id=\"T_eae08b08_fa76_11e7_8f0e_4a00022c6f90row3_col0\" class=\"data row3 col0\" >-0.0552953</td> \n",
       "        <td id=\"T_eae08b08_fa76_11e7_8f0e_4a00022c6f90row3_col1\" class=\"data row3 col1\" >-0.0426967</td> \n",
       "        <td id=\"T_eae08b08_fa76_11e7_8f0e_4a00022c6f90row3_col2\" class=\"data row3 col2\" >0.062938</td> \n",
       "        <td id=\"T_eae08b08_fa76_11e7_8f0e_4a00022c6f90row3_col3\" class=\"data row3 col3\" >1</td> \n",
       "        <td id=\"T_eae08b08_fa76_11e7_8f0e_4a00022c6f90row3_col4\" class=\"data row3 col4\" >0.0912028</td> \n",
       "        <td id=\"T_eae08b08_fa76_11e7_8f0e_4a00022c6f90row3_col5\" class=\"data row3 col5\" >0.0912512</td> \n",
       "        <td id=\"T_eae08b08_fa76_11e7_8f0e_4a00022c6f90row3_col6\" class=\"data row3 col6\" >0.0865178</td> \n",
       "        <td id=\"T_eae08b08_fa76_11e7_8f0e_4a00022c6f90row3_col7\" class=\"data row3 col7\" >-0.0991758</td> \n",
       "        <td id=\"T_eae08b08_fa76_11e7_8f0e_4a00022c6f90row3_col8\" class=\"data row3 col8\" >-0.00736824</td> \n",
       "        <td id=\"T_eae08b08_fa76_11e7_8f0e_4a00022c6f90row3_col9\" class=\"data row3 col9\" >-0.0355865</td> \n",
       "        <td id=\"T_eae08b08_fa76_11e7_8f0e_4a00022c6f90row3_col10\" class=\"data row3 col10\" >-0.121515</td> \n",
       "        <td id=\"T_eae08b08_fa76_11e7_8f0e_4a00022c6f90row3_col11\" class=\"data row3 col11\" >0.0487885</td> \n",
       "        <td id=\"T_eae08b08_fa76_11e7_8f0e_4a00022c6f90row3_col12\" class=\"data row3 col12\" >-0.0539293</td> \n",
       "    </tr>    <tr> \n",
       "        <th id=\"T_eae08b08_fa76_11e7_8f0e_4a00022c6f90level0_row4\" class=\"row_heading level0 row4\" >NOX</th> \n",
       "        <td id=\"T_eae08b08_fa76_11e7_8f0e_4a00022c6f90row4_col0\" class=\"data row4 col0\" >0.417521</td> \n",
       "        <td id=\"T_eae08b08_fa76_11e7_8f0e_4a00022c6f90row4_col1\" class=\"data row4 col1\" >-0.516604</td> \n",
       "        <td id=\"T_eae08b08_fa76_11e7_8f0e_4a00022c6f90row4_col2\" class=\"data row4 col2\" >0.763651</td> \n",
       "        <td id=\"T_eae08b08_fa76_11e7_8f0e_4a00022c6f90row4_col3\" class=\"data row4 col3\" >0.0912028</td> \n",
       "        <td id=\"T_eae08b08_fa76_11e7_8f0e_4a00022c6f90row4_col4\" class=\"data row4 col4\" >1</td> \n",
       "        <td id=\"T_eae08b08_fa76_11e7_8f0e_4a00022c6f90row4_col5\" class=\"data row4 col5\" >-0.302188</td> \n",
       "        <td id=\"T_eae08b08_fa76_11e7_8f0e_4a00022c6f90row4_col6\" class=\"data row4 col6\" >0.73147</td> \n",
       "        <td id=\"T_eae08b08_fa76_11e7_8f0e_4a00022c6f90row4_col7\" class=\"data row4 col7\" >-0.76923</td> \n",
       "        <td id=\"T_eae08b08_fa76_11e7_8f0e_4a00022c6f90row4_col8\" class=\"data row4 col8\" >0.611441</td> \n",
       "        <td id=\"T_eae08b08_fa76_11e7_8f0e_4a00022c6f90row4_col9\" class=\"data row4 col9\" >0.668023</td> \n",
       "        <td id=\"T_eae08b08_fa76_11e7_8f0e_4a00022c6f90row4_col10\" class=\"data row4 col10\" >0.188933</td> \n",
       "        <td id=\"T_eae08b08_fa76_11e7_8f0e_4a00022c6f90row4_col11\" class=\"data row4 col11\" >-0.380051</td> \n",
       "        <td id=\"T_eae08b08_fa76_11e7_8f0e_4a00022c6f90row4_col12\" class=\"data row4 col12\" >0.590879</td> \n",
       "    </tr>    <tr> \n",
       "        <th id=\"T_eae08b08_fa76_11e7_8f0e_4a00022c6f90level0_row5\" class=\"row_heading level0 row5\" >RM</th> \n",
       "        <td id=\"T_eae08b08_fa76_11e7_8f0e_4a00022c6f90row5_col0\" class=\"data row5 col0\" >-0.21994</td> \n",
       "        <td id=\"T_eae08b08_fa76_11e7_8f0e_4a00022c6f90row5_col1\" class=\"data row5 col1\" >0.311991</td> \n",
       "        <td id=\"T_eae08b08_fa76_11e7_8f0e_4a00022c6f90row5_col2\" class=\"data row5 col2\" >-0.391676</td> \n",
       "        <td id=\"T_eae08b08_fa76_11e7_8f0e_4a00022c6f90row5_col3\" class=\"data row5 col3\" >0.0912512</td> \n",
       "        <td id=\"T_eae08b08_fa76_11e7_8f0e_4a00022c6f90row5_col4\" class=\"data row5 col4\" >-0.302188</td> \n",
       "        <td id=\"T_eae08b08_fa76_11e7_8f0e_4a00022c6f90row5_col5\" class=\"data row5 col5\" >1</td> \n",
       "        <td id=\"T_eae08b08_fa76_11e7_8f0e_4a00022c6f90row5_col6\" class=\"data row5 col6\" >-0.240265</td> \n",
       "        <td id=\"T_eae08b08_fa76_11e7_8f0e_4a00022c6f90row5_col7\" class=\"data row5 col7\" >0.205246</td> \n",
       "        <td id=\"T_eae08b08_fa76_11e7_8f0e_4a00022c6f90row5_col8\" class=\"data row5 col8\" >-0.209847</td> \n",
       "        <td id=\"T_eae08b08_fa76_11e7_8f0e_4a00022c6f90row5_col9\" class=\"data row5 col9\" >-0.292048</td> \n",
       "        <td id=\"T_eae08b08_fa76_11e7_8f0e_4a00022c6f90row5_col10\" class=\"data row5 col10\" >-0.355501</td> \n",
       "        <td id=\"T_eae08b08_fa76_11e7_8f0e_4a00022c6f90row5_col11\" class=\"data row5 col11\" >0.128069</td> \n",
       "        <td id=\"T_eae08b08_fa76_11e7_8f0e_4a00022c6f90row5_col12\" class=\"data row5 col12\" >-0.613808</td> \n",
       "    </tr>    <tr> \n",
       "        <th id=\"T_eae08b08_fa76_11e7_8f0e_4a00022c6f90level0_row6\" class=\"row_heading level0 row6\" >AGE</th> \n",
       "        <td id=\"T_eae08b08_fa76_11e7_8f0e_4a00022c6f90row6_col0\" class=\"data row6 col0\" >0.350784</td> \n",
       "        <td id=\"T_eae08b08_fa76_11e7_8f0e_4a00022c6f90row6_col1\" class=\"data row6 col1\" >-0.569537</td> \n",
       "        <td id=\"T_eae08b08_fa76_11e7_8f0e_4a00022c6f90row6_col2\" class=\"data row6 col2\" >0.644779</td> \n",
       "        <td id=\"T_eae08b08_fa76_11e7_8f0e_4a00022c6f90row6_col3\" class=\"data row6 col3\" >0.0865178</td> \n",
       "        <td id=\"T_eae08b08_fa76_11e7_8f0e_4a00022c6f90row6_col4\" class=\"data row6 col4\" >0.73147</td> \n",
       "        <td id=\"T_eae08b08_fa76_11e7_8f0e_4a00022c6f90row6_col5\" class=\"data row6 col5\" >-0.240265</td> \n",
       "        <td id=\"T_eae08b08_fa76_11e7_8f0e_4a00022c6f90row6_col6\" class=\"data row6 col6\" >1</td> \n",
       "        <td id=\"T_eae08b08_fa76_11e7_8f0e_4a00022c6f90row6_col7\" class=\"data row6 col7\" >-0.747881</td> \n",
       "        <td id=\"T_eae08b08_fa76_11e7_8f0e_4a00022c6f90row6_col8\" class=\"data row6 col8\" >0.456022</td> \n",
       "        <td id=\"T_eae08b08_fa76_11e7_8f0e_4a00022c6f90row6_col9\" class=\"data row6 col9\" >0.506456</td> \n",
       "        <td id=\"T_eae08b08_fa76_11e7_8f0e_4a00022c6f90row6_col10\" class=\"data row6 col10\" >0.261515</td> \n",
       "        <td id=\"T_eae08b08_fa76_11e7_8f0e_4a00022c6f90row6_col11\" class=\"data row6 col11\" >-0.273534</td> \n",
       "        <td id=\"T_eae08b08_fa76_11e7_8f0e_4a00022c6f90row6_col12\" class=\"data row6 col12\" >0.602339</td> \n",
       "    </tr>    <tr> \n",
       "        <th id=\"T_eae08b08_fa76_11e7_8f0e_4a00022c6f90level0_row7\" class=\"row_heading level0 row7\" >DIS</th> \n",
       "        <td id=\"T_eae08b08_fa76_11e7_8f0e_4a00022c6f90row7_col0\" class=\"data row7 col0\" >-0.377904</td> \n",
       "        <td id=\"T_eae08b08_fa76_11e7_8f0e_4a00022c6f90row7_col1\" class=\"data row7 col1\" >0.664408</td> \n",
       "        <td id=\"T_eae08b08_fa76_11e7_8f0e_4a00022c6f90row7_col2\" class=\"data row7 col2\" >-0.708027</td> \n",
       "        <td id=\"T_eae08b08_fa76_11e7_8f0e_4a00022c6f90row7_col3\" class=\"data row7 col3\" >-0.0991758</td> \n",
       "        <td id=\"T_eae08b08_fa76_11e7_8f0e_4a00022c6f90row7_col4\" class=\"data row7 col4\" >-0.76923</td> \n",
       "        <td id=\"T_eae08b08_fa76_11e7_8f0e_4a00022c6f90row7_col5\" class=\"data row7 col5\" >0.205246</td> \n",
       "        <td id=\"T_eae08b08_fa76_11e7_8f0e_4a00022c6f90row7_col6\" class=\"data row7 col6\" >-0.747881</td> \n",
       "        <td id=\"T_eae08b08_fa76_11e7_8f0e_4a00022c6f90row7_col7\" class=\"data row7 col7\" >1</td> \n",
       "        <td id=\"T_eae08b08_fa76_11e7_8f0e_4a00022c6f90row7_col8\" class=\"data row7 col8\" >-0.494588</td> \n",
       "        <td id=\"T_eae08b08_fa76_11e7_8f0e_4a00022c6f90row7_col9\" class=\"data row7 col9\" >-0.534432</td> \n",
       "        <td id=\"T_eae08b08_fa76_11e7_8f0e_4a00022c6f90row7_col10\" class=\"data row7 col10\" >-0.232471</td> \n",
       "        <td id=\"T_eae08b08_fa76_11e7_8f0e_4a00022c6f90row7_col11\" class=\"data row7 col11\" >0.291512</td> \n",
       "        <td id=\"T_eae08b08_fa76_11e7_8f0e_4a00022c6f90row7_col12\" class=\"data row7 col12\" >-0.496996</td> \n",
       "    </tr>    <tr> \n",
       "        <th id=\"T_eae08b08_fa76_11e7_8f0e_4a00022c6f90level0_row8\" class=\"row_heading level0 row8\" >RAD</th> \n",
       "        <td id=\"T_eae08b08_fa76_11e7_8f0e_4a00022c6f90row8_col0\" class=\"data row8 col0\" >0.622029</td> \n",
       "        <td id=\"T_eae08b08_fa76_11e7_8f0e_4a00022c6f90row8_col1\" class=\"data row8 col1\" >-0.311948</td> \n",
       "        <td id=\"T_eae08b08_fa76_11e7_8f0e_4a00022c6f90row8_col2\" class=\"data row8 col2\" >0.595129</td> \n",
       "        <td id=\"T_eae08b08_fa76_11e7_8f0e_4a00022c6f90row8_col3\" class=\"data row8 col3\" >-0.00736824</td> \n",
       "        <td id=\"T_eae08b08_fa76_11e7_8f0e_4a00022c6f90row8_col4\" class=\"data row8 col4\" >0.611441</td> \n",
       "        <td id=\"T_eae08b08_fa76_11e7_8f0e_4a00022c6f90row8_col5\" class=\"data row8 col5\" >-0.209847</td> \n",
       "        <td id=\"T_eae08b08_fa76_11e7_8f0e_4a00022c6f90row8_col6\" class=\"data row8 col6\" >0.456022</td> \n",
       "        <td id=\"T_eae08b08_fa76_11e7_8f0e_4a00022c6f90row8_col7\" class=\"data row8 col7\" >-0.494588</td> \n",
       "        <td id=\"T_eae08b08_fa76_11e7_8f0e_4a00022c6f90row8_col8\" class=\"data row8 col8\" >1</td> \n",
       "        <td id=\"T_eae08b08_fa76_11e7_8f0e_4a00022c6f90row8_col9\" class=\"data row8 col9\" >0.910228</td> \n",
       "        <td id=\"T_eae08b08_fa76_11e7_8f0e_4a00022c6f90row8_col10\" class=\"data row8 col10\" >0.464741</td> \n",
       "        <td id=\"T_eae08b08_fa76_11e7_8f0e_4a00022c6f90row8_col11\" class=\"data row8 col11\" >-0.444413</td> \n",
       "        <td id=\"T_eae08b08_fa76_11e7_8f0e_4a00022c6f90row8_col12\" class=\"data row8 col12\" >0.488676</td> \n",
       "    </tr>    <tr> \n",
       "        <th id=\"T_eae08b08_fa76_11e7_8f0e_4a00022c6f90level0_row9\" class=\"row_heading level0 row9\" >TAX</th> \n",
       "        <td id=\"T_eae08b08_fa76_11e7_8f0e_4a00022c6f90row9_col0\" class=\"data row9 col0\" >0.579564</td> \n",
       "        <td id=\"T_eae08b08_fa76_11e7_8f0e_4a00022c6f90row9_col1\" class=\"data row9 col1\" >-0.314563</td> \n",
       "        <td id=\"T_eae08b08_fa76_11e7_8f0e_4a00022c6f90row9_col2\" class=\"data row9 col2\" >0.72076</td> \n",
       "        <td id=\"T_eae08b08_fa76_11e7_8f0e_4a00022c6f90row9_col3\" class=\"data row9 col3\" >-0.0355865</td> \n",
       "        <td id=\"T_eae08b08_fa76_11e7_8f0e_4a00022c6f90row9_col4\" class=\"data row9 col4\" >0.668023</td> \n",
       "        <td id=\"T_eae08b08_fa76_11e7_8f0e_4a00022c6f90row9_col5\" class=\"data row9 col5\" >-0.292048</td> \n",
       "        <td id=\"T_eae08b08_fa76_11e7_8f0e_4a00022c6f90row9_col6\" class=\"data row9 col6\" >0.506456</td> \n",
       "        <td id=\"T_eae08b08_fa76_11e7_8f0e_4a00022c6f90row9_col7\" class=\"data row9 col7\" >-0.534432</td> \n",
       "        <td id=\"T_eae08b08_fa76_11e7_8f0e_4a00022c6f90row9_col8\" class=\"data row9 col8\" >0.910228</td> \n",
       "        <td id=\"T_eae08b08_fa76_11e7_8f0e_4a00022c6f90row9_col9\" class=\"data row9 col9\" >1</td> \n",
       "        <td id=\"T_eae08b08_fa76_11e7_8f0e_4a00022c6f90row9_col10\" class=\"data row9 col10\" >0.460853</td> \n",
       "        <td id=\"T_eae08b08_fa76_11e7_8f0e_4a00022c6f90row9_col11\" class=\"data row9 col11\" >-0.441808</td> \n",
       "        <td id=\"T_eae08b08_fa76_11e7_8f0e_4a00022c6f90row9_col12\" class=\"data row9 col12\" >0.543993</td> \n",
       "    </tr>    <tr> \n",
       "        <th id=\"T_eae08b08_fa76_11e7_8f0e_4a00022c6f90level0_row10\" class=\"row_heading level0 row10\" >PTRATIO</th> \n",
       "        <td id=\"T_eae08b08_fa76_11e7_8f0e_4a00022c6f90row10_col0\" class=\"data row10 col0\" >0.28825</td> \n",
       "        <td id=\"T_eae08b08_fa76_11e7_8f0e_4a00022c6f90row10_col1\" class=\"data row10 col1\" >-0.391679</td> \n",
       "        <td id=\"T_eae08b08_fa76_11e7_8f0e_4a00022c6f90row10_col2\" class=\"data row10 col2\" >0.383248</td> \n",
       "        <td id=\"T_eae08b08_fa76_11e7_8f0e_4a00022c6f90row10_col3\" class=\"data row10 col3\" >-0.121515</td> \n",
       "        <td id=\"T_eae08b08_fa76_11e7_8f0e_4a00022c6f90row10_col4\" class=\"data row10 col4\" >0.188933</td> \n",
       "        <td id=\"T_eae08b08_fa76_11e7_8f0e_4a00022c6f90row10_col5\" class=\"data row10 col5\" >-0.355501</td> \n",
       "        <td id=\"T_eae08b08_fa76_11e7_8f0e_4a00022c6f90row10_col6\" class=\"data row10 col6\" >0.261515</td> \n",
       "        <td id=\"T_eae08b08_fa76_11e7_8f0e_4a00022c6f90row10_col7\" class=\"data row10 col7\" >-0.232471</td> \n",
       "        <td id=\"T_eae08b08_fa76_11e7_8f0e_4a00022c6f90row10_col8\" class=\"data row10 col8\" >0.464741</td> \n",
       "        <td id=\"T_eae08b08_fa76_11e7_8f0e_4a00022c6f90row10_col9\" class=\"data row10 col9\" >0.460853</td> \n",
       "        <td id=\"T_eae08b08_fa76_11e7_8f0e_4a00022c6f90row10_col10\" class=\"data row10 col10\" >1</td> \n",
       "        <td id=\"T_eae08b08_fa76_11e7_8f0e_4a00022c6f90row10_col11\" class=\"data row10 col11\" >-0.177383</td> \n",
       "        <td id=\"T_eae08b08_fa76_11e7_8f0e_4a00022c6f90row10_col12\" class=\"data row10 col12\" >0.374044</td> \n",
       "    </tr>    <tr> \n",
       "        <th id=\"T_eae08b08_fa76_11e7_8f0e_4a00022c6f90level0_row11\" class=\"row_heading level0 row11\" >B</th> \n",
       "        <td id=\"T_eae08b08_fa76_11e7_8f0e_4a00022c6f90row11_col0\" class=\"data row11 col0\" >-0.377365</td> \n",
       "        <td id=\"T_eae08b08_fa76_11e7_8f0e_4a00022c6f90row11_col1\" class=\"data row11 col1\" >0.17552</td> \n",
       "        <td id=\"T_eae08b08_fa76_11e7_8f0e_4a00022c6f90row11_col2\" class=\"data row11 col2\" >-0.356977</td> \n",
       "        <td id=\"T_eae08b08_fa76_11e7_8f0e_4a00022c6f90row11_col3\" class=\"data row11 col3\" >0.0487885</td> \n",
       "        <td id=\"T_eae08b08_fa76_11e7_8f0e_4a00022c6f90row11_col4\" class=\"data row11 col4\" >-0.380051</td> \n",
       "        <td id=\"T_eae08b08_fa76_11e7_8f0e_4a00022c6f90row11_col5\" class=\"data row11 col5\" >0.128069</td> \n",
       "        <td id=\"T_eae08b08_fa76_11e7_8f0e_4a00022c6f90row11_col6\" class=\"data row11 col6\" >-0.273534</td> \n",
       "        <td id=\"T_eae08b08_fa76_11e7_8f0e_4a00022c6f90row11_col7\" class=\"data row11 col7\" >0.291512</td> \n",
       "        <td id=\"T_eae08b08_fa76_11e7_8f0e_4a00022c6f90row11_col8\" class=\"data row11 col8\" >-0.444413</td> \n",
       "        <td id=\"T_eae08b08_fa76_11e7_8f0e_4a00022c6f90row11_col9\" class=\"data row11 col9\" >-0.441808</td> \n",
       "        <td id=\"T_eae08b08_fa76_11e7_8f0e_4a00022c6f90row11_col10\" class=\"data row11 col10\" >-0.177383</td> \n",
       "        <td id=\"T_eae08b08_fa76_11e7_8f0e_4a00022c6f90row11_col11\" class=\"data row11 col11\" >1</td> \n",
       "        <td id=\"T_eae08b08_fa76_11e7_8f0e_4a00022c6f90row11_col12\" class=\"data row11 col12\" >-0.366087</td> \n",
       "    </tr>    <tr> \n",
       "        <th id=\"T_eae08b08_fa76_11e7_8f0e_4a00022c6f90level0_row12\" class=\"row_heading level0 row12\" >LSTAT</th> \n",
       "        <td id=\"T_eae08b08_fa76_11e7_8f0e_4a00022c6f90row12_col0\" class=\"data row12 col0\" >0.45222</td> \n",
       "        <td id=\"T_eae08b08_fa76_11e7_8f0e_4a00022c6f90row12_col1\" class=\"data row12 col1\" >-0.412995</td> \n",
       "        <td id=\"T_eae08b08_fa76_11e7_8f0e_4a00022c6f90row12_col2\" class=\"data row12 col2\" >0.6038</td> \n",
       "        <td id=\"T_eae08b08_fa76_11e7_8f0e_4a00022c6f90row12_col3\" class=\"data row12 col3\" >-0.0539293</td> \n",
       "        <td id=\"T_eae08b08_fa76_11e7_8f0e_4a00022c6f90row12_col4\" class=\"data row12 col4\" >0.590879</td> \n",
       "        <td id=\"T_eae08b08_fa76_11e7_8f0e_4a00022c6f90row12_col5\" class=\"data row12 col5\" >-0.613808</td> \n",
       "        <td id=\"T_eae08b08_fa76_11e7_8f0e_4a00022c6f90row12_col6\" class=\"data row12 col6\" >0.602339</td> \n",
       "        <td id=\"T_eae08b08_fa76_11e7_8f0e_4a00022c6f90row12_col7\" class=\"data row12 col7\" >-0.496996</td> \n",
       "        <td id=\"T_eae08b08_fa76_11e7_8f0e_4a00022c6f90row12_col8\" class=\"data row12 col8\" >0.488676</td> \n",
       "        <td id=\"T_eae08b08_fa76_11e7_8f0e_4a00022c6f90row12_col9\" class=\"data row12 col9\" >0.543993</td> \n",
       "        <td id=\"T_eae08b08_fa76_11e7_8f0e_4a00022c6f90row12_col10\" class=\"data row12 col10\" >0.374044</td> \n",
       "        <td id=\"T_eae08b08_fa76_11e7_8f0e_4a00022c6f90row12_col11\" class=\"data row12 col11\" >-0.366087</td> \n",
       "        <td id=\"T_eae08b08_fa76_11e7_8f0e_4a00022c6f90row12_col12\" class=\"data row12 col12\" >1</td> \n",
       "    </tr></tbody> \n",
       "</table> "
      ],
      "text/plain": [
       "<pandas.io.formats.style.Styler at 0x1a21f8ffd0>"
      ]
     },
     "execution_count": 120,
     "metadata": {},
     "output_type": "execute_result"
    }
   ],
   "source": [
    "corr = boston.corr()\n",
    "def color_values(val):\n",
    "    color = 'rgba(255, 0, 0,'+str(abs(val))+')' if val < 0 else 'rgba(0, 255, 0,'+str(val)+')'\n",
    "    return 'background-color: %s' % color\n",
    "corr.style.applymap(color_values)"
   ]
  },
  {
   "cell_type": "markdown",
   "metadata": {
    "ein.tags": "worksheet-0",
    "slideshow": {
     "slide_type": "-"
    }
   },
   "source": [
    "Weighted distances to five Boston employment centres and nitric oxides concentration (parts per 10 million) seem to be the most negatively correlated.\n",
    "Besides the variables being correlated to themselves, the index of accessibility to radial highways and full-value property-tax rate per $10,000 seem to be the most positively correlated."
   ]
  },
  {
   "cell_type": "markdown",
   "metadata": {
    "ein.tags": "worksheet-0",
    "slideshow": {
     "slide_type": "-"
    }
   },
   "source": [
    "## Another Visualization"
   ]
  },
  {
   "cell_type": "code",
   "execution_count": 15,
   "metadata": {
    "autoscroll": false,
    "ein.tags": "worksheet-0",
    "slideshow": {
     "slide_type": "-"
    }
   },
   "outputs": [
    {
     "data": {
      "image/png": "[encoded data removed]",
      "text/plain": [
       "<matplotlib.figure.Figure at 0x1a1be5ca90>"
      ]
     },
     "metadata": {},
     "output_type": "display_data"
    },
    {
     "name": "stdout",
     "output_type": "stream",
     "text": [
      "Regression Equation: y = 0.00813715408936 x + 0.476990062135\n",
      "Starting at ~.008, for every interval of Index of Accessibility to Radial Highways there is a ~.477 parts per 10 million increase in Nitric Oxide Concentrations \n"
     ]
    }
   ],
   "source": [
    "plt.scatter(boston['RAD'],boston[\"NOX\"])\n",
    "plt.xlabel(\"Index of Accessibility to Radial Highways\")\n",
    "plt.ylabel(\"Nitric Oxide Concentration (parts per 10 mill))\")\n",
    "poly = np.polyfit(boston['RAD'], boston[\"NOX\"], 1)\n",
    "plt.plot(boston['RAD'], np.poly1d(poly)(boston['RAD']))\n",
    "plt.show()\n",
    "print(\"Regression Equation: y =\" , poly[0] , \"x +\" , poly[1])\n",
    "print(\"Starting at ~.008, for every interval of Index of Accessibility to Radial Highways there is a ~.477 parts per 10 million increase in Nitric Oxide Concentrations \")"
   ]
  },
  {
   "cell_type": "code",
   "execution_count": null,
   "metadata": {
    "collapsed": true
   },
   "outputs": [],
   "source": []
  },
  {
   "cell_type": "code",
   "execution_count": null,
   "metadata": {
    "collapsed": true
   },
   "outputs": [],
   "source": []
  }
 ],
 "metadata": {
  "kernelspec": {
   "display_name": "Python 3",
   "language": "python",
   "name": "python3"
  },
  "language_info": {
   "codemirror_mode": {
    "name": "ipython",
    "version": 3
   },
   "file_extension": ".py",
   "mimetype": "text/x-python",
   "name": "python",
   "nbconvert_exporter": "python",
   "pygments_lexer": "ipython3",
   "version": "3.6.2"
  },
  "name": "INFO371-PS1.ipynb"
 },
 "nbformat": 4,
 "nbformat_minor": 2
}
