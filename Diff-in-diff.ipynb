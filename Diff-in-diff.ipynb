{
 "cells": [
  {
   "cell_type": "markdown",
   "metadata": {
    "ein.tags": "worksheet-0",
    "slideshow": {
     "slide_type": "-"
    }
   },
   "source": []
  },
  {
   "cell_type": "code",
   "execution_count": 168,
   "metadata": {
    "collapsed": true
   },
   "outputs": [],
   "source": [
    "import pandas as pd\n",
    "import numpy as np\n",
    "from matplotlib import pyplot as plt\n",
    "import statsmodels.formula.api as smf\n",
    "from scipy import stats\n",
    "import warnings; warnings.simplefilter('ignore')\n",
    "\n",
    "df = pd.read_csv('progresa_sample.csv.gz')"
   ]
  },
  {
   "cell_type": "markdown",
   "metadata": {
    "ein.tags": "worksheet-0",
    "slideshow": {
     "slide_type": "-"
    }
   },
   "source": []
  },
  {
   "cell_type": "markdown",
   "metadata": {
    "ein.tags": "worksheet-0",
    "slideshow": {
     "slide_type": "-"
    }
   },
   "source": [
    "## Descriptive analysis\n",
    "\n",
    "### Summary Statistics"
   ]
  },
  {
   "cell_type": "code",
   "execution_count": 184,
   "metadata": {
    "autoscroll": false,
    "ein.tags": "worksheet-0",
    "slideshow": {
     "slide_type": "-"
    }
   },
   "outputs": [
    {
     "name": "stdout",
     "output_type": "stream",
     "text": [
      "                     Mean         STD  NumMissing\n",
      "Variables                                        \n",
      "age             11.366460    3.167744           0\n",
      "dist_cap       147.674452   76.063134           0\n",
      "dist_sec         2.418910    2.234109           0\n",
      "fam_n            7.215715    2.352900           0\n",
      "grc              3.963537    2.499063        6549\n",
      "grc97            3.705372    2.572387           0\n",
      "hohage          44.436717   11.620372          10\n",
      "hohedu           2.768104    2.656106           0\n",
      "hohsex           0.925185    0.263095          20\n",
      "hohwag         586.985312  788.133664           0\n",
      "indig            0.298324    0.457525         300\n",
      "min_dist       103.447520   42.089441           0\n",
      "poor                  NaN         NaN           0\n",
      "progresa              NaN         NaN           0\n",
      "sc               0.819818    0.384342        8453\n",
      "sc97             0.813922    0.389172        3872\n",
      "sex              0.512211    0.499854          24\n",
      "welfare_index  690.346564  139.491130         210\n"
     ]
    }
   ],
   "source": [
    "summaryDF = df[df.columns.difference(['year', 'folnum','village'])]\n",
    "summary = pd.DataFrame(index=summaryDF.columns)\n",
    "summary['Mean'] = summaryDF.mean()\n",
    "summary['STD'] = summaryDF.std()\n",
    "summary['NumMissing'] = summaryDF.isnull().sum()\n",
    "summary.index.name = \"Variables\"\n",
    "print(summary)"
   ]
  },
  {
   "cell_type": "code",
   "execution_count": null,
   "metadata": {
    "collapsed": true
   },
   "outputs": [],
   "source": []
  },
  {
   "cell_type": "code",
   "execution_count": null,
   "metadata": {
    "collapsed": true
   },
   "outputs": [],
   "source": []
  },
  {
   "cell_type": "markdown",
   "metadata": {
    "ein.tags": "worksheet-0",
    "slideshow": {
     "slide_type": "-"
    }
   },
   "source": [
    "### Differences at baseline"
   ]
  },
  {
   "cell_type": "code",
   "execution_count": 193,
   "metadata": {
    "autoscroll": false,
    "collapsed": true,
    "ein.tags": "worksheet-0",
    "slideshow": {
     "slide_type": "-"
    }
   },
   "outputs": [],
   "source": [
    "df97 = df[df['year'] == 97]\n",
    "df97 = df97[df97.columns.difference(['year', 'folnum','village'])]\n",
    "df97Poor = df97[df97['poor'] == 'pobre']\n",
    "df97PoorTreatment = df97[df['progresa'] == 'basal']\n",
    "df97PoorControl = df97[df['progresa'] == '0']\n",
    "df97PoorTreatment = df97PoorTreatment[df97PoorTreatment.columns.difference(['poor','progresa'])]\n",
    "df97PoorControl = df97PoorControl[df97PoorControl.columns.difference(['poor','progresa'])]"
   ]
  },
  {
   "cell_type": "code",
   "execution_count": 194,
   "metadata": {},
   "outputs": [
    {
     "data": {
      "text/html": [
       "<div>\n",
       "<style>\n",
       "    .dataframe thead tr:only-child th {\n",
       "        text-align: right;\n",
       "    }\n",
       "\n",
       "    .dataframe thead th {\n",
       "        text-align: left;\n",
       "    }\n",
       "\n",
       "    .dataframe tbody tr th {\n",
       "        vertical-align: top;\n",
       "    }\n",
       "</style>\n",
       "<table border=\"1\" class=\"dataframe\">\n",
       "  <thead>\n",
       "    <tr style=\"text-align: right;\">\n",
       "      <th></th>\n",
       "      <th>Average value (Treatment villages)</th>\n",
       "      <th>Average value (Control villages)</th>\n",
       "      <th>Difference (Treat - Control)</th>\n",
       "      <th>p-value</th>\n",
       "    </tr>\n",
       "  </thead>\n",
       "  <tbody>\n",
       "    <tr>\n",
       "      <th>age</th>\n",
       "      <td>10.852229</td>\n",
       "      <td>10.889256</td>\n",
       "      <td>-0.037027</td>\n",
       "      <td>2.577952e-01</td>\n",
       "    </tr>\n",
       "    <tr>\n",
       "      <th>dist_cap</th>\n",
       "      <td>147.174637</td>\n",
       "      <td>148.475099</td>\n",
       "      <td>-1.300462</td>\n",
       "      <td>1.021567e-01</td>\n",
       "    </tr>\n",
       "    <tr>\n",
       "      <th>dist_sec</th>\n",
       "      <td>2.395930</td>\n",
       "      <td>2.455722</td>\n",
       "      <td>-0.059792</td>\n",
       "      <td>1.050891e-02</td>\n",
       "    </tr>\n",
       "    <tr>\n",
       "      <th>fam_n</th>\n",
       "      <td>7.202860</td>\n",
       "      <td>7.236309</td>\n",
       "      <td>-0.033449</td>\n",
       "      <td>1.741312e-01</td>\n",
       "    </tr>\n",
       "    <tr>\n",
       "      <th>grc</th>\n",
       "      <td>3.699075</td>\n",
       "      <td>3.715460</td>\n",
       "      <td>-0.016385</td>\n",
       "      <td>5.425787e-01</td>\n",
       "    </tr>\n",
       "    <tr>\n",
       "      <th>grc97</th>\n",
       "      <td>3.699075</td>\n",
       "      <td>3.715460</td>\n",
       "      <td>-0.016385</td>\n",
       "      <td>5.425787e-01</td>\n",
       "    </tr>\n",
       "    <tr>\n",
       "      <th>hohage</th>\n",
       "      <td>44.228760</td>\n",
       "      <td>44.769806</td>\n",
       "      <td>-0.541046</td>\n",
       "      <td>8.530957e-06</td>\n",
       "    </tr>\n",
       "    <tr>\n",
       "      <th>hohedu</th>\n",
       "      <td>2.798696</td>\n",
       "      <td>2.719097</td>\n",
       "      <td>0.079599</td>\n",
       "      <td>4.169096e-03</td>\n",
       "    </tr>\n",
       "    <tr>\n",
       "      <th>hohsex</th>\n",
       "      <td>0.926552</td>\n",
       "      <td>0.922994</td>\n",
       "      <td>0.003558</td>\n",
       "      <td>1.960796e-01</td>\n",
       "    </tr>\n",
       "    <tr>\n",
       "      <th>hohwag</th>\n",
       "      <td>576.529437</td>\n",
       "      <td>603.734434</td>\n",
       "      <td>-27.204997</td>\n",
       "      <td>9.664290e-04</td>\n",
       "    </tr>\n",
       "    <tr>\n",
       "      <th>indig</th>\n",
       "      <td>0.299126</td>\n",
       "      <td>0.297040</td>\n",
       "      <td>0.002086</td>\n",
       "      <td>6.635059e-01</td>\n",
       "    </tr>\n",
       "    <tr>\n",
       "      <th>min_dist</th>\n",
       "      <td>104.825087</td>\n",
       "      <td>101.240815</td>\n",
       "      <td>3.584272</td>\n",
       "      <td>3.808279e-16</td>\n",
       "    </tr>\n",
       "    <tr>\n",
       "      <th>sc</th>\n",
       "      <td>0.818495</td>\n",
       "      <td>0.806578</td>\n",
       "      <td>0.011918</td>\n",
       "      <td>4.337409e-03</td>\n",
       "    </tr>\n",
       "    <tr>\n",
       "      <th>sc97</th>\n",
       "      <td>0.818495</td>\n",
       "      <td>0.806578</td>\n",
       "      <td>0.011918</td>\n",
       "      <td>4.337409e-03</td>\n",
       "    </tr>\n",
       "    <tr>\n",
       "      <th>sex</th>\n",
       "      <td>0.517562</td>\n",
       "      <td>0.503639</td>\n",
       "      <td>0.013923</td>\n",
       "      <td>7.755589e-03</td>\n",
       "    </tr>\n",
       "    <tr>\n",
       "      <th>welfare_index</th>\n",
       "      <td>687.730256</td>\n",
       "      <td>694.562346</td>\n",
       "      <td>-6.832089</td>\n",
       "      <td>2.962954e-06</td>\n",
       "    </tr>\n",
       "  </tbody>\n",
       "</table>\n",
       "</div>"
      ],
      "text/plain": [
       "               Average value (Treatment villages)  \\\n",
       "age                                     10.852229   \n",
       "dist_cap                               147.174637   \n",
       "dist_sec                                 2.395930   \n",
       "fam_n                                    7.202860   \n",
       "grc                                      3.699075   \n",
       "grc97                                    3.699075   \n",
       "hohage                                  44.228760   \n",
       "hohedu                                   2.798696   \n",
       "hohsex                                   0.926552   \n",
       "hohwag                                 576.529437   \n",
       "indig                                    0.299126   \n",
       "min_dist                               104.825087   \n",
       "sc                                       0.818495   \n",
       "sc97                                     0.818495   \n",
       "sex                                      0.517562   \n",
       "welfare_index                          687.730256   \n",
       "\n",
       "               Average value (Control villages)  Difference (Treat - Control)  \\\n",
       "age                                   10.889256                     -0.037027   \n",
       "dist_cap                             148.475099                     -1.300462   \n",
       "dist_sec                               2.455722                     -0.059792   \n",
       "fam_n                                  7.236309                     -0.033449   \n",
       "grc                                    3.715460                     -0.016385   \n",
       "grc97                                  3.715460                     -0.016385   \n",
       "hohage                                44.769806                     -0.541046   \n",
       "hohedu                                 2.719097                      0.079599   \n",
       "hohsex                                 0.922994                      0.003558   \n",
       "hohwag                               603.734434                    -27.204997   \n",
       "indig                                  0.297040                      0.002086   \n",
       "min_dist                             101.240815                      3.584272   \n",
       "sc                                     0.806578                      0.011918   \n",
       "sc97                                   0.806578                      0.011918   \n",
       "sex                                    0.503639                      0.013923   \n",
       "welfare_index                        694.562346                     -6.832089   \n",
       "\n",
       "                    p-value  \n",
       "age            2.577952e-01  \n",
       "dist_cap       1.021567e-01  \n",
       "dist_sec       1.050891e-02  \n",
       "fam_n          1.741312e-01  \n",
       "grc            5.425787e-01  \n",
       "grc97          5.425787e-01  \n",
       "hohage         8.530957e-06  \n",
       "hohedu         4.169096e-03  \n",
       "hohsex         1.960796e-01  \n",
       "hohwag         9.664290e-04  \n",
       "indig          6.635059e-01  \n",
       "min_dist       3.808279e-16  \n",
       "sc             4.337409e-03  \n",
       "sc97           4.337409e-03  \n",
       "sex            7.755589e-03  \n",
       "welfare_index  2.962954e-06  "
      ]
     },
     "execution_count": 194,
     "metadata": {},
     "output_type": "execute_result"
    }
   ],
   "source": [
    "baseline = pd.DataFrame(index=df97PoorTreatment.columns)\n",
    "baseline['Average value (Treatment villages)'] = df97PoorTreatment.mean()\n",
    "baseline['Average value (Control villages)'] = df97PoorControl.mean()\n",
    "baseline['Difference (Treat - Control)'] = baseline['Average value (Treatment villages)'] - baseline['Average value (Control villages)']\n",
    "l = []\n",
    "listofname = df97PoorTreatment.columns\n",
    "for x in listofname:\n",
    "    l.append(stats.ttest_ind(df97PoorTreatment[x],df97PoorControl[x], nan_policy='omit').pvalue)\n",
    "baseline['p-value'] = l\n",
    "baseline"
   ]
  },
  {
   "cell_type": "markdown",
   "metadata": {
    "ein.tags": "worksheet-0",
    "slideshow": {
     "slide_type": "-"
    }
   },
   "source": [
    "### Interpretation"
   ]
  },
  {
   "cell_type": "markdown",
   "metadata": {
    "ein.tags": "worksheet-0",
    "slideshow": {
     "slide_type": "-"
    }
   },
   "source": [
    "There are some variables in which there are statistically significant differnces between the treatments and control villages. It matter if there are differnces at baseline because when we say we are splitting into control and treatment vilalges we want to measure thhe effect of the treatment. If they are not the same at baseline, we cannot make concrete causal inferences. As mentioned above, it is harder to make causal inferences if both groups are not the same at baseline."
   ]
  },
  {
   "cell_type": "markdown",
   "metadata": {
    "ein.tags": "worksheet-0",
    "slideshow": {
     "slide_type": "-"
    }
   },
   "source": [
    "### Graphical exploration\n",
    "level of household head education vs average enrollment rate in 1997"
   ]
  },
  {
   "cell_type": "code",
   "execution_count": 172,
   "metadata": {
    "autoscroll": false,
    "ein.tags": "worksheet-0",
    "slideshow": {
     "slide_type": "-"
    }
   },
   "outputs": [
    {
     "data": {
      "image/png": "[encoded data removed]",
      "text/plain": [
       "<matplotlib.figure.Figure at 0x10c75f6d8>"
      ]
     },
     "metadata": {},
     "output_type": "display_data"
    }
   ],
   "source": [
    "means = df97.groupby([\"hohedu\"])['sc'].mean()\n",
    "meansdf = pd.DataFrame(means)\n",
    "plt.scatter(meansdf.index.values, meansdf['sc'])\n",
    "plt.show()"
   ]
  },
  {
   "cell_type": "markdown",
   "metadata": {
    "ein.tags": "worksheet-0",
    "slideshow": {
     "slide_type": "-"
    }
   },
   "source": [
    "Except for the outlier at 20 years of Head of Household education, there seems to be a strong positive correlarion between  years of Head of Household education and whether or not a student is enrolled in school."
   ]
  },
  {
   "cell_type": "markdown",
   "metadata": {
    "ein.tags": "worksheet-0",
    "slideshow": {
     "slide_type": "-"
    }
   },
   "source": [
    "### Graphical exploration, part 2\n",
    "Village enrollment rates before and after the treatment"
   ]
  },
  {
   "cell_type": "code",
   "execution_count": 173,
   "metadata": {
    "autoscroll": false,
    "collapsed": true,
    "ein.tags": "worksheet-0",
    "slideshow": {
     "slide_type": "-"
    }
   },
   "outputs": [],
   "source": [
    "df97 = df[df['year'] == 97]\n",
    "df97Poor = df97[df97['poor'] == 'pobre']\n",
    "df97PoorTreatment = df97[df['progresa'] == 'basal']\n",
    "means97 = df97PoorTreatment.groupby([\"village\"])['sc'].mean()\n",
    "\n",
    "df98 = df[df['year'] == 98]\n",
    "df98Poor = df98[df98['poor'] == 'pobre']\n",
    "df98PoorTreatment = df98[df['progresa'] == 'basal']\n",
    "means98 = df98PoorTreatment.groupby([\"village\"])['sc'].mean()\n"
   ]
  },
  {
   "cell_type": "code",
   "execution_count": 190,
   "metadata": {},
   "outputs": [
    {
     "data": {
      "image/png": "[encoded data removed]",
      "text/plain": [
       "<matplotlib.figure.Figure at 0x1a138b4cf8>"
      ]
     },
     "metadata": {},
     "output_type": "display_data"
    },
    {
     "data": {
      "image/png": "[encoded data removed]",
      "text/plain": [
       "<matplotlib.figure.Figure at 0x1a18bb0be0>"
      ]
     },
     "metadata": {},
     "output_type": "display_data"
    },
    {
     "name": "stdout",
     "output_type": "stream",
     "text": [
      "p-value: 0.0621248579597\n"
     ]
    }
   ],
   "source": [
    "plt.hist(means97)\n",
    "plt.axvline(x=means97.mean(), color='k')\n",
    "plt.show()\n",
    "\n",
    "plt.hist(means98)\n",
    "plt.axvline(x=means98.mean(), color='k')\n",
    "plt.show()\n",
    "\n",
    "print(\"p-value:\", stats.ttest_ind(means97, means98, nan_policy='omit').pvalue)"
   ]
  },
  {
   "cell_type": "markdown",
   "metadata": {
    "ein.tags": "worksheet-0",
    "slideshow": {
     "slide_type": "-"
    }
   },
   "source": [
    "The is definetely a visual differnce between the two graphs. We can clearly see that the bottom graph of 1998 is left tailed. If we were to look at the median instead of the mean, we would see more evidence of change. The bigger p-value tells us that it is not significant differnce."
   ]
  },
  {
   "cell_type": "markdown",
   "metadata": {
    "ein.tags": "worksheet-0",
    "slideshow": {
     "slide_type": "-"
    }
   },
   "source": [
    "## Measuring Impact\n",
    "\n",
    "Our goal is to estimate the causal impact of the PROGRESA program on\n",
    "the social and economic outcomes of individuals in Mexico. We will\n",
    "focus on the impact of the program on the poor (those with\n",
    "poor=='pobre'), since only the poor were eligible to receive the\n",
    "PROGRESA assistance.\n",
    "\n",
    "### Simple differences: T-test"
   ]
  },
  {
   "cell_type": "code",
   "execution_count": 175,
   "metadata": {
    "autoscroll": false,
    "ein.tags": "worksheet-0",
    "slideshow": {
     "slide_type": "-"
    }
   },
   "outputs": [
    {
     "name": "stdout",
     "output_type": "stream",
     "text": [
      "Treatment Mean: 0.8232620500045702\n",
      "Contol Mean: 0.7990203932596827\n",
      "p-value of t-test: 0.00873006255438\n"
     ]
    }
   ],
   "source": [
    "df98 = df[df['year'] == 98]\n",
    "df98Poor = df98[df['poor'] == 'pobre']\n",
    "df98PoorTreatment = df98[df['progresa'] == 'basal']\n",
    "means98PoorTreatment = df98PoorTreatment.groupby([\"village\"])['sc'].mean()\n",
    "\n",
    "df98PoorControl = df98[df['progresa'] == '0']\n",
    "means98PoorControl = df98PoorControl.groupby([\"village\"])['sc'].mean()\n",
    "\n",
    "print(\"Treatment Mean:\", means98PoorTreatment.mean())\n",
    "print(\"Contol Mean:\", means98PoorControl.mean())\n",
    "print(\"p-value of t-test:\" , stats.ttest_ind(means98PoorTreatment,means98PoorControl, nan_policy='omit').pvalue)"
   ]
  },
  {
   "cell_type": "markdown",
   "metadata": {
    "ein.tags": "worksheet-0",
    "slideshow": {
     "slide_type": "-"
    }
   },
   "source": [
    "The small p-value gives us reason to reject the null hypothesis that the two means are equal in favor of the alternative that they are not. This tells us that there is a differnce in the means which could have been caused by the treatment."
   ]
  },
  {
   "cell_type": "markdown",
   "metadata": {
    "ein.tags": "worksheet-0",
    "slideshow": {
     "slide_type": "-"
    }
   },
   "source": [
    "### Simple differences: Regression"
   ]
  },
  {
   "cell_type": "code",
   "execution_count": 176,
   "metadata": {
    "autoscroll": false,
    "collapsed": true,
    "ein.tags": "worksheet-0",
    "slideshow": {
     "slide_type": "-"
    }
   },
   "outputs": [],
   "source": [
    "df98 = df[df['year'] == 98]\n",
    "df98Poor = df98[df['poor'] == 'pobre']\n",
    "treatmentDummies = pd.get_dummies(df98Poor['progresa'])\n",
    "df98Poor['treatmentDummy'] = treatmentDummies['basal']"
   ]
  },
  {
   "cell_type": "code",
   "execution_count": 177,
   "metadata": {},
   "outputs": [
    {
     "name": "stdout",
     "output_type": "stream",
     "text": [
      "                            OLS Regression Results                            \n",
      "==============================================================================\n",
      "Dep. Variable:                     sc   R-squared:                       0.003\n",
      "Model:                            OLS   Adj. R-squared:                  0.003\n",
      "Method:                 Least Squares   F-statistic:                     69.87\n",
      "Date:                Thu, 08 Feb 2018   Prob (F-statistic):           6.64e-17\n",
      "Time:                        21:38:04   Log-Likelihood:                -11926.\n",
      "No. Observations:               27450   AIC:                         2.386e+04\n",
      "Df Residuals:                   27448   BIC:                         2.387e+04\n",
      "Df Model:                           1                                         \n",
      "Covariance Type:            nonrobust                                         \n",
      "==================================================================================\n",
      "                     coef    std err          t      P>|t|      [0.025      0.975]\n",
      "----------------------------------------------------------------------------------\n",
      "Intercept          0.8076      0.004    220.676      0.000       0.800       0.815\n",
      "treatmentDummy     0.0388      0.005      8.359      0.000       0.030       0.048\n",
      "==============================================================================\n",
      "Omnibus:                     7638.939   Durbin-Watson:                   1.734\n",
      "Prob(Omnibus):                  0.000   Jarque-Bera (JB):            15767.534\n",
      "Skew:                          -1.767   Prob(JB):                         0.00\n",
      "Kurtosis:                       4.140   Cond. No.                         3.01\n",
      "==============================================================================\n",
      "\n",
      "Warnings:\n",
      "[1] Standard Errors assume that the covariance matrix of the errors is correctly specified.\n"
     ]
    }
   ],
   "source": [
    "lm = smf.ols(formula='sc ~ treatmentDummy', data=df98Poor).fit()\n",
    "print(lm.summary())"
   ]
  },
  {
   "cell_type": "markdown",
   "metadata": {
    "ein.tags": "worksheet-0",
    "slideshow": {
     "slide_type": "-"
    }
   },
   "source": []
  },
  {
   "cell_type": "markdown",
   "metadata": {
    "ein.tags": "worksheet-0",
    "slideshow": {
     "slide_type": "-"
    }
   },
   "source": [
    "2.3 Multiple Regression"
   ]
  },
  {
   "cell_type": "code",
   "execution_count": 178,
   "metadata": {
    "autoscroll": false,
    "ein.tags": "worksheet-0",
    "slideshow": {
     "slide_type": "-"
    }
   },
   "outputs": [
    {
     "name": "stdout",
     "output_type": "stream",
     "text": [
      "                            OLS Regression Results                            \n",
      "==============================================================================\n",
      "Dep. Variable:                     sc   R-squared:                       0.267\n",
      "Model:                            OLS   Adj. R-squared:                  0.267\n",
      "Method:                 Least Squares   F-statistic:                     1419.\n",
      "Date:                Thu, 08 Feb 2018   Prob (F-statistic):               0.00\n",
      "Time:                        21:38:05   Log-Likelihood:                -7639.4\n",
      "No. Observations:               27267   AIC:                         1.529e+04\n",
      "Df Residuals:                   27259   BIC:                         1.536e+04\n",
      "Df Model:                           7                                         \n",
      "Covariance Type:            nonrobust                                         \n",
      "==================================================================================\n",
      "                     coef    std err          t      P>|t|      [0.025      0.975]\n",
      "----------------------------------------------------------------------------------\n",
      "Intercept          1.5025      0.014    105.342      0.000       1.475       1.530\n",
      "treatmentDummy     0.0352      0.004      8.799      0.000       0.027       0.043\n",
      "age               -0.0655      0.001    -95.105      0.000      -0.067      -0.064\n",
      "hohedu             0.0085      0.001     10.951      0.000       0.007       0.010\n",
      "indig              0.0468      0.004     11.283      0.000       0.039       0.055\n",
      "sex                0.0310      0.004      7.977      0.000       0.023       0.039\n",
      "dist_sec          -0.0117      0.001    -13.361      0.000      -0.013      -0.010\n",
      "welfare_index   3.227e-05   1.72e-05      1.872      0.061   -1.52e-06    6.61e-05\n",
      "==============================================================================\n",
      "Omnibus:                     2993.090   Durbin-Watson:                   1.718\n",
      "Prob(Omnibus):                  0.000   Jarque-Bera (JB):             4083.947\n",
      "Skew:                          -0.940   Prob(JB):                         0.00\n",
      "Kurtosis:                       3.248   Cond. No.                     4.90e+03\n",
      "==============================================================================\n",
      "\n",
      "Warnings:\n",
      "[1] Standard Errors assume that the covariance matrix of the errors is correctly specified.\n",
      "[2] The condition number is large, 4.9e+03. This might indicate that there are\n",
      "strong multicollinearity or other numerical problems.\n"
     ]
    }
   ],
   "source": [
    "lm = smf.ols(formula='sc ~ treatmentDummy + age + hohedu + indig + sex + dist_sec + welfare_index ', data=df98Poor).fit()\n",
    "print(lm.summary())"
   ]
  },
  {
   "cell_type": "markdown",
   "metadata": {
    "ein.tags": "worksheet-0",
    "slideshow": {
     "slide_type": "-"
    }
   },
   "source": []
  },
  {
   "cell_type": "markdown",
   "metadata": {
    "ein.tags": "worksheet-0",
    "slideshow": {
     "slide_type": "-"
    }
   },
   "source": [
    "### Difference-in-Difference, version 1 (tabular)"
   ]
  },
  {
   "cell_type": "code",
   "execution_count": 195,
   "metadata": {
    "autoscroll": false,
    "ein.tags": "worksheet-0",
    "slideshow": {
     "slide_type": "-"
    }
   },
   "outputs": [
    {
     "name": "stdout",
     "output_type": "stream",
     "text": [
      "Change in Control:  -0.0036609043082972414\n",
      "Change in Treatment: 0.02268638643289378\n",
      "Diff-in-Diff: -0.02634729074119102\n"
     ]
    }
   ],
   "source": [
    "df97 = df[df['year'] == 97]\n",
    "df97Poor = df97[df97['poor'] == 'pobre']\n",
    "df97PoorTreatment = df97[df['progresa'] == 'basal']\n",
    "means97PoorTreatment = df97PoorTreatment['sc'].mean()\n",
    "\n",
    "df97PoorControl = df97[df['progresa'] == '0']\n",
    "means97PoorControl = df97PoorControl['sc'].mean()\n",
    "\n",
    "df98 = df[df['year'] == 98]\n",
    "df98Poor = df98[df98['poor'] == 'pobre']\n",
    "df98PoorTreatment = df98[df['progresa'] == 'basal']\n",
    "means98PoorTreatment = df98PoorTreatment['sc'].mean()\n",
    "\n",
    "df98PoorControl = df98[df['progresa'] == '0']\n",
    "means98PoorControl = df98PoorControl['sc'].mean()\n",
    "\n",
    "print(\"Change in Control: \", means98PoorControl - means97PoorControl)\n",
    "print(\"Change in Treatment:\", means98PoorTreatment - means97PoorTreatment )\n",
    "print(\"Diff-in-Diff:\", (means98PoorControl - means97PoorControl) - (means98PoorTreatment - means97PoorTreatment))"
   ]
  },
  {
   "cell_type": "code",
   "execution_count": null,
   "metadata": {
    "collapsed": true
   },
   "outputs": [],
   "source": []
  },
  {
   "cell_type": "markdown",
   "metadata": {
    "ein.tags": "worksheet-0",
    "slideshow": {
     "slide_type": "-"
    }
   },
   "source": [
    "Here we show a smaller effect of (.026) than the above simple differences method. \n",
    "Again we assume that no other variables contribute to this."
   ]
  },
  {
   "cell_type": "markdown",
   "metadata": {
    "ein.tags": "worksheet-0",
    "slideshow": {
     "slide_type": "-"
    }
   },
   "source": [
    "###  Difference-in-Difference, version 2 (regression)"
   ]
  },
  {
   "cell_type": "code",
   "execution_count": 204,
   "metadata": {
    "autoscroll": false,
    "ein.tags": "worksheet-0",
    "slideshow": {
     "slide_type": "-"
    }
   },
   "outputs": [
    {
     "name": "stdout",
     "output_type": "stream",
     "text": [
      "                            OLS Regression Results                            \n",
      "==============================================================================\n",
      "Dep. Variable:                     sc   R-squared:                       0.279\n",
      "Model:                            OLS   Adj. R-squared:                  0.278\n",
      "Method:                 Least Squares   F-statistic:                     2488.\n",
      "Date:                Sun, 11 Feb 2018   Prob (F-statistic):               0.00\n",
      "Time:                        12:10:29   Log-Likelihood:                -16656.\n",
      "No. Observations:               58013   AIC:                         3.333e+04\n",
      "Df Residuals:                   58003   BIC:                         3.342e+04\n",
      "Df Model:                           9                                         \n",
      "Covariance Type:            nonrobust                                         \n",
      "=======================================================================================\n",
      "                          coef    std err          t      P>|t|      [0.025      0.975]\n",
      "---------------------------------------------------------------------------------------\n",
      "Intercept               1.4711      0.010    149.640      0.000       1.452       1.490\n",
      "GotTreatment            0.0044      0.004      1.169      0.242      -0.003       0.012\n",
      "Year98                  0.0278      0.004      6.370      0.000       0.019       0.036\n",
      "GotTreatment:Year98     0.0309      0.006      5.582      0.000       0.020       0.042\n",
      "age                    -0.0655      0.000   -143.552      0.000      -0.066      -0.065\n",
      "hohedu                  0.0075      0.001     13.841      0.000       0.006       0.009\n",
      "indig                   0.0499      0.003     17.363      0.000       0.044       0.055\n",
      "sex                     0.0338      0.003     12.625      0.000       0.029       0.039\n",
      "dist_sec               -0.0108      0.001    -17.378      0.000      -0.012      -0.010\n",
      "welfare_index        3.555e-05   1.19e-05      2.986      0.003    1.22e-05    5.89e-05\n",
      "==============================================================================\n",
      "Omnibus:                     5532.977   Durbin-Watson:                   1.483\n",
      "Prob(Omnibus):                  0.000   Jarque-Bera (JB):             7289.118\n",
      "Skew:                          -0.866   Prob(JB):                         0.00\n",
      "Kurtosis:                       3.116   Cond. No.                     5.02e+03\n",
      "==============================================================================\n",
      "\n",
      "Warnings:\n",
      "[1] Standard Errors assume that the covariance matrix of the errors is correctly specified.\n",
      "[2] The condition number is large, 5.02e+03. This might indicate that there are\n",
      "strong multicollinearity or other numerical problems.\n"
     ]
    }
   ],
   "source": [
    "dfPoor = df[df['poor'] == 'pobre']\n",
    "treatmentDummies = pd.get_dummies(dfPoor['progresa'])\n",
    "yearDummies = pd.get_dummies(dfPoor['year'])\n",
    "dfPoor[\"GotTreatment\"] = treatmentDummies['basal']\n",
    "dfPoor[\"Year98\"] = yearDummies[98]\n",
    "lm = smf.ols(formula='sc ~ GotTreatment * Year98 + age + hohedu + indig + sex + dist_sec + welfare_index ', data=dfPoor).fit()\n",
    "print(lm.summary())"
   ]
  },
  {
   "cell_type": "markdown",
   "metadata": {
    "ein.tags": "worksheet-0",
    "slideshow": {
     "slide_type": "-"
    }
   },
   "source": []
  },
  {
   "cell_type": "markdown",
   "metadata": {
    "ein.tags": "worksheet-0",
    "slideshow": {
     "slide_type": "-"
    }
   },
   "source": []
  },
  {
   "cell_type": "markdown",
   "metadata": {
    "ein.tags": "worksheet-0",
    "slideshow": {
     "slide_type": "-"
    }
   },
   "source": []
  }
 ],
 "metadata": {
  "kernelspec": {
   "display_name": "Python 3",
   "language": "python",
   "name": "python3"
  },
  "language_info": {
   "codemirror_mode": {
    "name": "ipython",
    "version": 3
   },
   "file_extension": ".py",
   "mimetype": "text/x-python",
   "name": "python",
   "nbconvert_exporter": "python",
   "pygments_lexer": "ipython3",
   "version": "3.6.2"
  },
  "name": "ps03_progresa.ipynb"
 },
 "nbformat": 4,
 "nbformat_minor": 1
}
